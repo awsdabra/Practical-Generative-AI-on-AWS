{
  "cells": [
    {
      "cell_type": "markdown",
      "metadata": {},
      "source": [
        "# Chapter 6 - Managed Agents: Console-based Agent Example\n",
        "\n",
        "## Overview\n",
        "This notebook demonstrates how to create and test Amazon Bedrock Agents using the AWS Console interface, complementing the programmatic approach shown in Example61 (Bedrock Agents). We'll walk through the console-based workflow for agent creation and testing.\n",
        "\n",
        "This notebook demonstrates how to create and test Amazon Bedrock Agents using the AWS Console interface, complementing the programmatic approach shown in Example61 (Bedrock Agents).\n",
        "\n",
        "## Overview\n",
        "\n",
        "This example shows:\n",
        "- Creating agents through the AWS Console\n",
        "- Testing agent functionality\n",
        "- Understanding the console-based workflow\n",
        "- Comparing console vs programmatic approaches\n"
      ]
    },
    {
      "cell_type": "markdown",
      "metadata": {},
      "source": [
        "## Prerequisites\n",
        "\n",
        "- AWS account with Amazon Bedrock access\n",
        "- Access to Claude 3 models\n",
        "- Basic understanding of AWS Console navigation\n",
        "- Lambda functions from `../agents-with-api/` directory deployed (for Bedrock Agents)\n"
      ]
    },
    {
      "cell_type": "markdown",
      "metadata": {},
      "source": [
        "## Console-based Agent Creation Steps\n",
        "\n",
        "### Step 1: Navigate to Amazon Bedrock Console\n",
        "1. Go to AWS Console → Amazon Bedrock\n",
        "2. Select \"Agents\" from the left navigation\n",
        "3. Click \"Create agent\"\n",
        "\n",
        "### Step 2: Configure Agent\n",
        "1. **Agent name**: `customer-support-agent`\n",
        "2. **Description**: `Customer support agent created via console`\n",
        "3. **Foundation model**: Select Claude 3.5 Sonnet v2 or latest foundational model\n",
        "4. **Agent instructions**: Use the content from `data/agent_instructions.txt`\n",
        "\n",
        "### Step 3: Create Action Groups\n",
        "\n",
        "#### Action Group 1: Order Management\n",
        "1. Click \"Add action group\"\n",
        "2. **Action group name**: `order-action-group`\n",
        "3. **Description**: `Handles order placement, tracking, and cancellation`\n",
        "4. **Lambda function**: Select the deployed `order_lambda` function from `../agents-with-api/` directory\n",
        "\n",
        "#### Action Group 2: Return and Refund Processing\n",
        "1. Click \"Add action group\" again\n",
        "2. **Action group name**: `return-refund-action-group`\n",
        "3. **Description**: `Handles return requests and refund processing`\n",
        "4. **Lambda function**: Select the deployed `returnrefund_lambda` function from `../agents-with-api/` directory\n",
        "\n",
        "### Step 4: Test the Agent\n",
        "1. Save and prepare the agent\n",
        "2. Use the test interface to interact with the agent\n",
        "3. Test both action groups with the following scenarios:\n",
        "\n",
        "#### Order Management Tests:\n",
        "- **Place Order**: \"I want to order z12 wireless headphones and have them delivered to John Doe at 123 Main St, Austin, Texas. Use my default credit card.\"\n",
        "- **Track Order**: \"I want to get the details for order ORD12345.\"\n",
        "- **Cancel Order**: \"Can you help cancel my order ORD12345?\"\n",
        "\n",
        "#### Return and Refund Tests:\n",
        "- **Initiate Return**: \"I want to return my order ORD12345 because the product arrived damaged.\"\n",
        "- **Process Refund**: \"I want to process a refund for order ORD12345.\"\n"
      ]
    },
    {
      "cell_type": "markdown",
      "metadata": {},
      "source": [
        "## Lambda Functions Overview\n",
        "\n",
        "The console example uses two Lambda functions from the `../agents-with-api/` directory. These are the same lambda functions used in Example61 (Bedrock Agents programmatic approach):\n",
        "\n",
        "### 1. Order Lambda Function (`order_lambda.py`)\n",
        "**Functions Available:**\n",
        "- `place-order`: Creates new orders with customer details, product info, and shipping address\n",
        "- `retrieve-order-tracking-info`: Retrieves order status and tracking information\n",
        "- `cancel-order`: Cancels existing orders\n",
        "\n",
        "**Sample Order Data:**\n",
        "- ORD12345: John Doe - wireless headphones (Out for delivery)\n",
        "- ORD67890: Jane Smith - smart watch (Processing)\n",
        "- ORD11111: Rohit Kumar - laptop (Delivered)\n",
        "\n",
        "### 2. Return-Refund Lambda Function (`returnrefund_lambda.py`)\n",
        "**Functions Available:**\n",
        "- `initiate-return`: Initiates return requests with reason codes\n",
        "- `process-refund`: Processes refund requests for returned items\n",
        "\n",
        "**Return Reasons Supported:**\n",
        "- Product arrived damaged\n",
        "- Wrong item received\n",
        "- Product not as described\n",
        "- Customer changed mind\n"
      ]
    }
  ],
  "metadata": {
    "language_info": {
      "name": "python"
    }
  },
  "nbformat": 4,
  "nbformat_minor": 2
}
