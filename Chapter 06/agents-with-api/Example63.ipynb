{
  "cells": [
    {
      "cell_type": "markdown",
      "metadata": {},
      "source": [
        "# Chapter 6 - Managed Agents: Autonomous AI Agents with Strands Agents SDK \n",
        "\n",
        "\n",
        "## Overview\n",
        "This notebook demonstrates how to build autonomous AI agents using Strands, a framework that enables creating AI agents with both custom and built-in tools. Strands provides a powerful way to build agents that can perform complex tasks by combining custom business logic with pre-built tools.\n",
        "\n",
        "In this example, we'll create a customer support agent that can:\n",
        "- Check order status using custom business logic\n",
        "- Perform calculations using built-in tools\n",
        "- Handle complex customer inquiries autonomously\n",
        "\n",
        "## What You'll Learn\n",
        "- How to set up Strands with Amazon Bedrock models\n",
        "- Creating custom tools for business-specific functionality\n",
        "- Using built-in tools for common tasks\n",
        "- Building autonomous agents that can reason and execute complex workflows\n"
      ]
    },
    {
      "cell_type": "markdown",
      "metadata": {},
      "source": [
        "## 1. Setup - Install Required Packages\n",
        "!pip install -r requirements.txt"
      ]
    },
    {
      "cell_type": "code",
      "execution_count": null,
      "metadata": {},
      "outputs": [],
      "source": [
        "# Install Strands and required packages\n",
        "%pip install strands strands-tools\n"
      ]
    },
    {
      "cell_type": "code",
      "execution_count": null,
      "metadata": {},
      "outputs": [],
      "source": [
        "# Import Strands components\n",
        "from strands import Agent, tool\n",
        "from strands_tools import calculator\n",
        "from strands.models import BedrockModel\n"
      ]
    },
    {
      "cell_type": "markdown",
      "metadata": {},
      "source": [
        "## 2. Configure Bedrock Model\n"
      ]
    },
    {
      "cell_type": "code",
      "execution_count": null,
      "metadata": {},
      "outputs": [],
      "source": [
        "# Configure Bedrock model for Strands\n",
        "bedrock_model = BedrockModel(\n",
        "    model_id=\"us.amazon.nova-pro-v1:0\",  # Use the model you want to use. See https://docs.aws.amazon.com/bedrock/latest/userguide/models-supported.html for more information\n",
        "    temperature=0.3,\n",
        "    streaming=True,  # Enable/disable streaming\n",
        ")\n",
        "\n",
        "print(\"Bedrock model configured successfully!\")\n"
      ]
    },
    {
      "cell_type": "markdown",
      "metadata": {},
      "source": [
        "## 3. Create Custom Tools for Business Logic\n"
      ]
    },
    {
      "cell_type": "code",
      "execution_count": null,
      "metadata": {},
      "outputs": [],
      "source": [
        "# Sample order database (in production, this would be a real database)\n",
        "order_database = {\n",
        "    \"ORD12345\": {\n",
        "        \"customer_name\": \"John Doe\",\n",
        "        \"item\": \"wireless headphones\",\n",
        "        \"status\": \"Processing\",\n",
        "        \"order_date\": \"2024-01-15\",\n",
        "        \"estimated_delivery\": \"2024-01-20\",\n",
        "        \"total_amount\": 99.99\n",
        "    },\n",
        "    \"ORD67890\": {\n",
        "        \"customer_name\": \"Jane Smith\",\n",
        "        \"item\": \"smart watch\",\n",
        "        \"status\": \"Shipped\",\n",
        "        \"order_date\": \"2024-01-10\",\n",
        "        \"estimated_delivery\": \"2024-01-18\",\n",
        "        \"total_amount\": 249.99\n",
        "    },\n",
        "    \"ORD11111\": {\n",
        "        \"customer_name\": \"Rohit Kumar\",\n",
        "        \"item\": \"laptop\",\n",
        "        \"status\": \"Delivered\",\n",
        "        \"order_date\": \"2024-01-05\",\n",
        "        \"delivery_date\": \"2024-01-12\",\n",
        "        \"total_amount\": 1299.99\n",
        "    }\n",
        "}\n"
      ]
    },
    {
      "cell_type": "code",
      "execution_count": null,
      "metadata": {},
      "outputs": [],
      "source": [
        "@tool\n",
        "def check_order_status(order_id: str) -> str:\n",
        "    \"\"\"Check the status of a customer order\"\"\"\n",
        "    order = order_database.get(order_id.upper())\n",
        "    if order:\n",
        "        status_info = f\"Order {order_id} for {order['customer_name']}:\"\n",
        "        status_info += f\"\\n- Item: {order['item']}\"\n",
        "        status_info += f\"\\n- Status: {order['status']}\"\n",
        "        status_info += f\"\\n- Order Date: {order['order_date']}\"\n",
        "        \n",
        "        if order['status'] == 'Delivered':\n",
        "            status_info += f\"\\n- Delivered on: {order['delivery_date']}\"\n",
        "        else:\n",
        "            status_info += f\"\\n- Estimated Delivery: {order['estimated_delivery']}\"\n",
        "            \n",
        "        status_info += f\"\\n- Total Amount: ${order['total_amount']}\"\n",
        "        return status_info\n",
        "    else:\n",
        "        return f\"Order {order_id} not found. Please check the order ID and try again.\"\n"
      ]
    },
    {
      "cell_type": "code",
      "execution_count": null,
      "metadata": {},
      "outputs": [],
      "source": [
        "@tool\n",
        "def calculate_refund_amount(order_id: str, quantity: int, unit_price: float) -> str:\n",
        "    \"\"\"Calculate refund amount for returned items\"\"\"\n",
        "    order = order_database.get(order_id.upper())\n",
        "    if not order:\n",
        "        return f\"Order {order_id} not found.\"\n",
        "    \n",
        "    total_refund = quantity * unit_price\n",
        "    return f\"Refund calculation for order {order_id}:\\n\" \\\n",
        "           f\"- Quantity: {quantity} items\\n\" \\\n",
        "           f\"- Unit Price: ${unit_price}\\n\" \\\n",
        "           f\"- Total Refund: ${total_refund:.2f}\"\n"
      ]
    },
    {
      "cell_type": "code",
      "execution_count": null,
      "metadata": {},
      "outputs": [],
      "source": [
        "@tool\n",
        "def get_product_info(product_name: str) -> str:\n",
        "    \"\"\"Get detailed product information\"\"\"\n",
        "    # Sample product database\n",
        "    products = {\n",
        "        \"wireless headphones\": {\n",
        "            \"price\": 99.99,\n",
        "            \"description\": \"High-quality wireless headphones with noise cancellation\",\n",
        "            \"availability\": \"In Stock\",\n",
        "            \"warranty\": \"1 year\"\n",
        "        },\n",
        "        \"smart watch\": {\n",
        "            \"price\": 249.99,\n",
        "            \"description\": \"Advanced smartwatch with health monitoring and GPS\",\n",
        "            \"availability\": \"In Stock\",\n",
        "            \"warranty\": \"2 years\"\n",
        "        },\n",
        "        \"laptop\": {\n",
        "            \"price\": 1299.99,\n",
        "            \"description\": \"High-performance laptop with 16GB RAM and 512GB SSD\",\n",
        "            \"availability\": \"Limited Stock\",\n",
        "            \"warranty\": \"3 years\"\n",
        "        }\n",
        "    }\n",
        "    \n",
        "    product = products.get(product_name.lower())\n",
        "    if product:\n",
        "        return f\"Product: {product_name.title()}\\n\" \\\n",
        "               f\"Price: ${product['price']}\\n\" \\\n",
        "               f\"Description: {product['description']}\\n\" \\\n",
        "               f\"Availability: {product['availability']}\\n\" \\\n",
        "               f\"Warranty: {product['warranty']}\"\n",
        "    else:\n",
        "        return f\"Product '{product_name}' not found in our catalog.\"\n"
      ]
    },
    {
      "cell_type": "markdown",
      "metadata": {},
      "source": [
        "## 4. Create the Autonomous Agent\n"
      ]
    },
    {
      "cell_type": "code",
      "execution_count": null,
      "metadata": {},
      "outputs": [],
      "source": [
        "# Create agent with both custom and built-in tools\n",
        "agent = Agent(\n",
        "    model=bedrock_model,\n",
        "    system_prompt=\"You are a helpful customer support agent that assists customers with orders, product information, and calculations. You can check order status, calculate refunds, provide product details, and perform mathematical calculations. Always be friendly and professional.\",\n",
        "    tools=[check_order_status, calculate_refund_amount, get_product_info, calculator]\n",
        ")\n",
        "\n",
        "print(\"Autonomous agent created successfully with custom and built-in tools!\")\n"
      ]
    },
    {
      "cell_type": "markdown",
      "metadata": {},
      "source": [
        "## 5. Test the Agent with Various Scenarios\n"
      ]
    },
    {
      "cell_type": "code",
      "execution_count": null,
      "metadata": {},
      "outputs": [],
      "source": [
        "# Test 1: Check order status using custom tool\n",
        "print(\"=== Test 1: Order Status Check ===\")\n",
        "response1 = agent(\"What's the status of my order ORD12345?\")\n",
        "print(response1)\n",
        "print(\"\\n\" + \"=\"*50 + \"\\n\")\n"
      ]
    },
    {
      "cell_type": "code",
      "execution_count": null,
      "metadata": {},
      "outputs": [],
      "source": [
        "# Test 2: Use built-in calculator tool\n",
        "print(\"=== Test 2: Built-in Calculator ===\")\n",
        "response2 = agent(\"If I return 3 items at $25.99 each, what's my total refund?\")\n",
        "print(response2)\n",
        "print(\"\\n\" + \"=\"*50 + \"\\n\")\n"
      ]
    },
    {
      "cell_type": "code",
      "execution_count": null,
      "metadata": {},
      "outputs": [],
      "source": [
        "# Test 3: Get product information\n",
        "print(\"=== Test 3: Product Information ===\")\n",
        "response3 = agent(\"Can you tell me about the wireless headphones?\")\n",
        "print(response3)\n",
        "print(\"\\n\" + \"=\"*50 + \"\\n\")\n"
      ]
    },
    {
      "cell_type": "code",
      "execution_count": null,
      "metadata": {},
      "outputs": [],
      "source": [
        "# Test 4: Complex scenario combining multiple tools\n",
        "print(\"=== Test 4: Complex Multi-Tool Scenario ===\")\n",
        "response4 = agent(\"I want to return 2 wireless headphones from my order ORD12345. Each headphone costs $99.99. Can you check my order status and calculate the refund amount?\")\n",
        "print(response4)\n",
        "print(\"\\n\" + \"=\"*50 + \"\\n\")\n"
      ]
    },
    {
      "cell_type": "code",
      "execution_count": null,
      "metadata": {},
      "outputs": [],
      "source": [
        "# Test 5: Mathematical calculation with context\n",
        "print(\"=== Test 5: Mathematical Calculation with Context ===\")\n",
        "response5 = agent(\"I have an order for $1299.99 and I want to apply a 10% discount. What would be the final amount after discount?\")\n",
        "print(response5)\n",
        "print(\"\\n\" + \"=\"*50 + \"\\n\")\n"
      ]
    },
    {
      "cell_type": "markdown",
      "metadata": {},
      "source": [
        "## 6. Key Benefits of Strands\n",
        "\n",
        "### Advantages of Using Strands:\n",
        "\n",
        "1. **Autonomous Operation**: Agents can reason, plan, and execute complex workflows without human intervention\n",
        "\n",
        "2. **Tool Integration**: Seamlessly combine custom business logic with built-in tools\n",
        "\n",
        "3. **Streaming Support**: Real-time responses for better user experience\n",
        "\n",
        "4. **Flexible Architecture**: Easy to add new tools and capabilities\n",
        "\n",
        "5. **Bedrock Integration**: Leverage AWS Bedrock's powerful foundation models\n",
        "\n",
        "6. **Error Handling**: Built-in error handling and edge case management\n",
        "\n",
        "### Use Cases:\n",
        "- Customer support automation\n",
        "- Data analysis and reporting\n",
        "- Content generation with calculations\n",
        "- Multi-step workflow automation\n",
        "- Interactive applications with AI reasoning\n"
      ]
    },
    {
      "cell_type": "markdown",
      "metadata": {},
      "source": [
        "## 7. Best Practices\n",
        "\n",
        "### When Building Strands Agents:\n",
        "\n",
        "1. **Clear Tool Descriptions**: Provide detailed docstrings for custom tools\n",
        "\n",
        "2. **Error Handling**: Implement proper error handling in custom tools\n",
        "\n",
        "3. **System Prompts**: Craft clear system prompts that define the agent's role and capabilities\n",
        "\n",
        "4. **Tool Selection**: Choose appropriate tools for the task - custom for business logic, built-in for common operations\n",
        "\n",
        "5. **Testing**: Test agents with various scenarios including edge cases\n",
        "\n",
        "6. **Monitoring**: Monitor agent performance and tool usage\n",
        "\n",
        "7. **Security**: Ensure proper access controls for custom tools that interact with sensitive data\n"
      ]
    }
  ],
  "metadata": {
    "language_info": {
      "name": "python"
    }
  },
  "nbformat": 4,
  "nbformat_minor": 2
}
