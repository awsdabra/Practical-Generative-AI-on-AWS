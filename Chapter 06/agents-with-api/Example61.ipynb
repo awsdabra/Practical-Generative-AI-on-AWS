{
 "cells": [
  {
   "cell_type": "markdown",
   "id": "a0bb5c39-2fde-4336-8127-8debe7cb2741",
   "metadata": {
    "pycharm": {
     "name": "#%% md\n"
    }
   },
   "source": [
    "# Chapter 6 - Managed Agents: Customer Support Agent with Knowledge Bases and Action Groups\n",
    "\n",
    "## Overview\n",
    "This notebook demonstrates how to build a comprehensive customer support agent using Amazon Bedrock Agents. We'll create an agent that can handle order management, product inquiries, and customer service tasks by integrating with knowledge bases and backend systems through action groups.\n",
    "\n",
    "In this notebook, we will build a customer support agent using Agents and Knowledge bases in Amazon Bedrock. We will leverage Anthropic Claude 3 foundational models from Amazon Bedrock using the Boto3 SDK.\n",
    "\n",
    "<img src=\"images/agent-architecture.png\" style=\"width:70%;display:block;margin: 0 auto;\">\n",
    "<br/>\n",
    "\n",
    "On a high-level, we will cover 3 key steps : \n",
    "\n",
    "#### Setup \n",
    "- Import the needed libraries and utilities.\n",
    "\n",
    "#### Agents \n",
    " - Create the Agent\n",
    " - Create the Action Groups \n",
    " - Create Lambda functions to call external APIs/Systems and associate them with Actions Groups\n",
    " - Associate the knowledge base with agent to improve the relevance and accuracy of the agent responses\n",
    " - Test the agent.\n",
    "\n",
    "#### Clean-up \n",
    " - Remove any resources created"
   ]
  },
  {
   "cell_type": "markdown",
   "id": "cc5b9551",
   "metadata": {},
   "source": [
    "In our exampmle for this book, Customer Support Agent can perform following actions/tasks -\n",
    "- Place a new order\n",
    "- Cancel the order\n",
    "- Retrieve the order details and tracking information\n",
    "- Retrive product details from knowledge base"
   ]
  },
  {
   "cell_type": "markdown",
   "id": "076a5aba-9735-4e98-8a53-0daccd7e94b0",
   "metadata": {
    "pycharm": {
     "name": "#%% md\n"
    }
   },
   "source": [
    "## 1. Setup - import the required libraries"
   ]
  },
  {
   "cell_type": "markdown",
   "id": "4fa67d7a",
   "metadata": {
    "pycharm": {
     "name": "#%% md\n"
    }
   },
   "source": [
    "First step is to install the pre-requisites packages"
   ]
  },
  {
   "cell_type": "code",
   "execution_count": 1,
   "id": "ac05c073-d45b-4d85-9bf8-ae10aa78be8d",
   "metadata": {
    "pycharm": {
     "name": "#%%\n"
    },
    "tags": []
   },
   "outputs": [
    {
     "name": "stdout",
     "output_type": "stream",
     "text": [
      "Note: you may need to restart the kernel to use updated packages.\n"
     ]
    }
   ],
   "source": [
    "%pip install --upgrade -q -r requirements.txt"
   ]
  },
  {
   "cell_type": "code",
   "execution_count": null,
   "id": "6b3f8b78",
   "metadata": {},
   "outputs": [],
   "source": [
    "# Import constants\n",
    "from constants import AGENT_FOUNDATION_MODEL, CUSTOMER_SUPPORT_KB_ID, ORDER_LAMBDA_CODE_FILE_NAME\n"
   ]
  },
  {
   "cell_type": "code",
   "execution_count": 2,
   "id": "15c0f07d",
   "metadata": {},
   "outputs": [],
   "source": [
    "import boto3\n",
    "import json\n",
    "import time\n",
    "import logging\n",
    "import pprint\n",
    "import random"
   ]
  },
  {
   "cell_type": "code",
   "execution_count": null,
   "id": "60c8a39b",
   "metadata": {},
   "outputs": [],
   "source": [
    "# Initialize logging\n",
    "logging.basicConfig(format='[%(asctime)s] p%(process)s {%(filename)s:%(lineno)d} %(levelname)s - %(message)s', level=logging.INFO)\n",
    "logger = logging.getLogger(__name__)\n",
    "\n",
    "# Note: AWS clients are initialized in the utility functions"
   ]
  },
  {
   "cell_type": "code",
   "execution_count": null,
   "id": "0942d484",
   "metadata": {},
   "outputs": [],
   "source": [
    "# Import helper functions and AWS clients from utility module\n",
    "from agents_helper_util import (\n",
    "    create_agent_role_and_policies, \n",
    "    create_lambda_role, \n",
    "    delete_agent_roles_and_policies,\n",
    "    create_dynamodb, \n",
    "    create_lambda, \n",
    "    clean_up_resources,\n",
    "    bedrock_agent_client,\n",
    "    bedrock_agent_runtime_client,\n",
    "    lambda_client,\n",
    "    account_id,\n",
    "    region\n",
    ")"
   ]
  },
  {
   "cell_type": "code",
   "execution_count": null,
   "id": "fde8754f",
   "metadata": {},
   "outputs": [],
   "source": [
    "# Display current AWS configuration\n",
    "print(f\"Region: {region}\")\n",
    "print(f\"Account ID: {account_id}\")"
   ]
  },
  {
   "cell_type": "code",
   "execution_count": 7,
   "id": "c76cfdc6",
   "metadata": {},
   "outputs": [],
   "source": [
    "# Create a DynamoDB table for order tracking\n",
    "table_name = 'orders'\n",
    "partition_key = 'order_id'\n",
    "tbl = create_dynamodb(table_name, partition_key)"
   ]
  },
  {
   "cell_type": "code",
   "execution_count": null,
   "id": "b3d1f53b",
   "metadata": {},
   "outputs": [],
   "source": [
    "# Agent parameters\n",
    "random_digits = ''.join(random.choices('0123456789', k=2))\n",
    "agent_name = f\"cust-support-agent-z{random_digits}\"\n",
    "# agent_name = 'cust-support-agent-api-2'\n",
    "agent_foundation_model = AGENT_FOUNDATION_MODEL\n",
    "agent_role_name = f'AmazonBedrockExecutionRoleForAgents_{agent_name}'\n",
    "agent_bedrock_allow_policy_name = f\"{agent_name}-ba\"\n",
    "agent_alias_name = \"customer-support-agent-dev\"\n",
    "agent_description = \"You are a friendly, helpful, polite and knowledgeable customer support agent. Your goal is to assist customers with questions related to order, and products.\"\n",
    "order_agent_action_group_name = \"order-action-group\"\n",
    "order_agent_action_group_description = \"\"\"Place order, get order details, tracking and cancel action group.\"\"\""
   ]
  },
  {
   "cell_type": "code",
   "execution_count": null,
   "id": "6ca50dfc",
   "metadata": {},
   "outputs": [],
   "source": [
    "# Agent Instructions are required and will be used by agent to define its purpose.\n",
    "agent_instruction = \"\"\"\n",
    "I want you to act as a friendly, helpful, and knowledgeable customer support agent. Your goal is to assist customers with inquiries related to creating new orders, retrieving order details or tracking orders, cancelling orders, and providing product information in a clear and succinct manner. You should not share your rationale or thinking directly with customer and prepare a friendly response as per below guidelines.\n",
    "1) Use natural, conversational language that a real customer service representative would use.\n",
    "2) Ask for any necessary information from the customer in a polite and helpful way, without implying or stating any system constraints.\n",
    "3) Never reveal or reference any internal implementation details, functions, systems, parameters, knowledge bases, requirements for exact product names, or any other technical details about how the system works behind the scenes. \n",
    "4) If you don't have enough information to fully address the customer's request, politely ask for clarification or additional details needed, just as a human agent would.\n",
    "5) Always prioritize a positive, supportive experience for the customer over technical accuracy or completeness.\n",
    "6) Never mention, describe or hint at your own internal processes, limitations or mechanisms for processing customer requests.\n",
    "For example:\n",
    "Example 1: If a customer asks \"Can you help me place or create a new order?\", respond: \"Certainly! I'd be happy to assist you with placing a new order. To get started, could you please provide me with your full name, product you want to buy, shipping address where you'd like the order delivered and your preferred payment method? Once I have those details, I can help order the product you need.\"\n",
    "Example 2: If a customer asks to cancel an order, respond: \"I'm sorry you need to cancel your order. Could you please provide the order number so I can locate and process the cancellation?\"\n",
    "Example 3: If a customer asks to track an order, respond: \"No problem, I'd be happy to look up the status of your order. Could you please provide your order number?\"\n",
    "\"\"\"\n",
    "\n",
    "# Knowledge base parameters : Get the knowledge base id you created in chapter 5. \n",
    "customer_support_kb_id = CUSTOMER_SUPPORT_KB_ID # Replace with your knowledge base id.\n",
    "customer_support_kb_version = \"1\"\n"
   ]
  },
  {
   "cell_type": "code",
   "execution_count": null,
   "id": "2bb09799",
   "metadata": {},
   "outputs": [],
   "source": [
    "# Create agent role and policies\n",
    "agent_role = create_agent_role_and_policies(agent_name, agent_foundation_model, kb_id=customer_support_kb_id)\n",
    "agent_role"
   ]
  },
  {
   "cell_type": "code",
   "execution_count": null,
   "id": "f77e2290",
   "metadata": {},
   "outputs": [],
   "source": [
    "# Create the customer support agent\n",
    "response = bedrock_agent_client.create_agent(\n",
    "    agentName=agent_name,\n",
    "    agentResourceRoleArn=agent_role['Role']['Arn'],\n",
    "    description=agent_description,\n",
    "    idleSessionTTLInSeconds=1800,\n",
    "    foundationModel=agent_foundation_model,\n",
    "    instruction=agent_instruction,\n",
    ")\n",
    "response"
   ]
  },
  {
   "cell_type": "code",
   "execution_count": null,
   "id": "87aea870",
   "metadata": {},
   "outputs": [],
   "source": [
    "customer_support_agent_id = response['agent']['agentId']\n",
    "print(\"The agent id is:\",customer_support_agent_id)"
   ]
  },
  {
   "cell_type": "code",
   "execution_count": 13,
   "id": "4d2ef8be",
   "metadata": {},
   "outputs": [],
   "source": [
    "# # Create the Order and ReturnRefund Action Groups\n",
    "order_action_group_agent_functions = [\n",
    "    {\n",
    "        'name': 'place-order',\n",
    "        'description': 'Use this function to place or crate an order',\n",
    "        'parameters': {\n",
    "            \"product_name\": {\n",
    "                \"description\": \"Product Name\",\n",
    "                \"required\": True,\n",
    "                \"type\": \"string\"\n",
    "            },\n",
    "            \"name\": {\n",
    "                \"description\": \"Customer Name\",\n",
    "                \"required\": True,\n",
    "                \"type\": \"string\"\n",
    "            },\n",
    "            \"quantity\": {\n",
    "                \"description\": \"Amount of product being ordered. \",\n",
    "                \"required\": True,\n",
    "                \"type\": \"string\"\n",
    "            },\n",
    "            \"shipping_address\": {\n",
    "                \"description\": \"Shipping Address\",\n",
    "                \"required\": True,\n",
    "                \"type\": \"string\"\n",
    "            },\n",
    "            \"payment_method\": {\n",
    "                \"description\": \"Payment Method\",\n",
    "                \"required\": True,\n",
    "                \"type\": \"string\"\n",
    "            }\n",
    "        }\n",
    "    },\n",
    "    {\n",
    "        'name': 'retrieve-order-tracking-info',\n",
    "        'description': 'Use this  function to retrieve and track order details',\n",
    "        'parameters': {\n",
    "            \"order_id\": {\n",
    "                \"description\": \"Order Id\",\n",
    "                \"required\": True,\n",
    "                \"type\": \"string\"\n",
    "            }\n",
    "        }\n",
    "    },\n",
    "    {\n",
    "        'name': 'cancel-order',\n",
    "        'description': 'Use this function to cancel the order.',\n",
    "        'parameters': {\n",
    "            \"order_id\": {\n",
    "                \"description\": \"Order Id\",\n",
    "                \"required\": True,\n",
    "                \"type\": \"string\"\n",
    "            }\n",
    "        }\n",
    "    },\n",
    "]"
   ]
  },
  {
   "cell_type": "code",
   "execution_count": null,
   "id": "4d328182",
   "metadata": {},
   "outputs": [],
   "source": [
    "# Create the Lambda Functions for the Order Action Groups\n",
    "lambda_iam_role = create_lambda_role(agent_name)\n",
    "lambda_code_file_name = ORDER_LAMBDA_CODE_FILE_NAME\n",
    "\n",
    "order_lambda_function_name = f\"order-{agent_name}\"\n",
    "order_lambda_function = create_lambda(order_lambda_function_name,lambda_iam_role, lambda_code_file_name)"
   ]
  },
  {
   "cell_type": "code",
   "execution_count": 14,
   "id": "333f857f",
   "metadata": {},
   "outputs": [],
   "source": [
    "# Pause to make sure agent is created\n",
    "time.sleep(20)\n",
    "\n",
    "# Configure and create 'Order' action group\n",
    "order_agent_action_group_response = bedrock_agent_client.create_agent_action_group(\n",
    "    agentId=customer_support_agent_id,\n",
    "    agentVersion='DRAFT',\n",
    "    actionGroupExecutor={\n",
    "        'lambda': order_lambda_function['FunctionArn']\n",
    "    },\n",
    "    actionGroupName=order_agent_action_group_name,\n",
    "    functionSchema={\n",
    "        'functions': order_action_group_agent_functions\n",
    "    },\n",
    "    description=order_agent_action_group_description\n",
    ")"
   ]
  },
  {
   "cell_type": "code",
   "execution_count": null,
   "id": "4d3e36b9",
   "metadata": {},
   "outputs": [],
   "source": [
    "order_agent_action_group_response"
   ]
  },
  {
   "cell_type": "markdown",
   "id": "fed819ef",
   "metadata": {},
   "source": [
    "# Provide permissions for Customer Support Agent to call the Action Group's Lambda functions\n",
    "Before using the action group, we need to allow the agent to invoke the lambda function associated with the action group. This is done via resource-based policy. Let's add the resource-based policy to the lambda function created"
   ]
  },
  {
   "cell_type": "code",
   "execution_count": null,
   "id": "4f4f8bc4",
   "metadata": {},
   "outputs": [],
   "source": [
    "# Allow agent to invoke permission on lambda functions for order action group\n",
    "order_response = lambda_client.add_permission(\n",
    "    FunctionName=order_lambda_function_name,\n",
    "    StatementId='allow_bedrock',\n",
    "    Action='lambda:InvokeFunction',\n",
    "    Principal='bedrock.amazonaws.com',\n",
    "    SourceArn=f\"arn:aws:bedrock:{region}:{account_id}:agent/{customer_support_agent_id}\",\n",
    ")\n",
    "order_response"
   ]
  },
  {
   "cell_type": "markdown",
   "id": "54e05e36",
   "metadata": {},
   "source": [
    "# Associate the knowledge base to the agent\n",
    "\n"
   ]
  },
  {
   "cell_type": "code",
   "execution_count": null,
   "id": "b66dde27",
   "metadata": {},
   "outputs": [],
   "source": [
    "# Associate the knowledge base (you created in chapter 5) to the agent. Without this step, the agent will not be able to use the knowledge base.\n",
    "\n",
    "response = bedrock_agent_client.associate_agent_knowledge_base(\n",
    "    agentId=customer_support_agent_id,\n",
    "    agentVersion='DRAFT',\n",
    "    description='Use the provided knowledge base to find information related to product features, specifications, and FAQs about products, order and other policies.',\n",
    "    knowledgeBaseId=customer_support_kb_id,\n",
    "    knowledgeBaseState='ENABLED'\n",
    ")"
   ]
  },
  {
   "cell_type": "markdown",
   "id": "11763daa",
   "metadata": {},
   "source": []
  },
  {
   "cell_type": "code",
   "execution_count": null,
   "id": "0ed03ef7",
   "metadata": {},
   "outputs": [],
   "source": [
    "# Let's Prepare the agent now.\n",
    "\n",
    "response = bedrock_agent_client.prepare_agent(\n",
    "    agentId=customer_support_agent_id\n",
    ")\n",
    "print(response)\n",
    "# Pause to make sure agent is prepared\n",
    "time.sleep(30)"
   ]
  },
  {
   "cell_type": "code",
   "execution_count": null,
   "id": "2788f640",
   "metadata": {},
   "outputs": [],
   "source": [
    "# Prepare for Production Deployment - create alias\n",
    "response = bedrock_agent_client.create_agent_alias(\n",
    "    agentAliasName=\"test\",\n",
    "    agentId=customer_support_agent_id,\n",
    "    description='Test alias',\n",
    ")\n",
    "\n",
    "alias_id = response[\"agentAlias\"][\"agentAliasId\"]\n",
    "print(\"The Agent alias is:\",alias_id)\n",
    "time.sleep(30)"
   ]
  },
  {
   "cell_type": "code",
   "execution_count": 3,
   "id": "dcded065",
   "metadata": {},
   "outputs": [],
   "source": [
    "def invokeAgent(query, session_id, enable_trace=False, session_state=dict()):\n",
    "    end_session:bool = False\n",
    "    \n",
    "    # invoke the agent API\n",
    "    agentResponse = bedrock_agent_runtime_client.invoke_agent(\n",
    "        inputText=query,\n",
    "        agentId=customer_support_agent_id,\n",
    "        agentAliasId=alias_id, \n",
    "        sessionId=session_id,\n",
    "        enableTrace=enable_trace, \n",
    "        endSession= end_session,\n",
    "        sessionState=session_state\n",
    "    )\n",
    "    \n",
    "    if enable_trace:\n",
    "        logger.info(pprint.pprint(agentResponse))\n",
    "    \n",
    "    event_stream = agentResponse['completion']\n",
    "    try:\n",
    "        for event in event_stream:        \n",
    "            if 'chunk' in event:\n",
    "                data = event['chunk']['bytes']\n",
    "                if enable_trace:\n",
    "                    logger.info(f\"Final answer ->\\n{data.decode('utf8')}\")\n",
    "                agent_answer = data.decode('utf8')\n",
    "                end_event_received = True\n",
    "                return agent_answer\n",
    "                # End event indicates that the request finished successfully\n",
    "            elif 'trace' in event:\n",
    "                if enable_trace:\n",
    "                    logger.info(json.dumps(event['trace'], indent=2))\n",
    "            else:\n",
    "                raise Exception(\"unexpected event.\", event)\n",
    "    except Exception as e:\n",
    "        raise Exception(\"unexpected event.\", e)"
   ]
  },
  {
   "cell_type": "code",
   "execution_count": 21,
   "id": "5c31ece2",
   "metadata": {},
   "outputs": [
    {
     "name": "stdout",
     "output_type": "stream",
     "text": [
      "The Laptop Pro 15 is a high-performance laptop suitable for professionals and gamers. It features a 15.6-inch 4K display, Intel i9 processor, 32GB RAM, 1TB SSD storage, and an NVIDIA RTX 3080 graphics card.\n"
     ]
    }
   ],
   "source": [
    "# Involve Agent to query Knowledge base\n",
    "\n",
    "import uuid\n",
    "session_id:str = str(uuid.uuid1())\n",
    "query = \"What are the features of the laptop?\"\n",
    "response = invokeAgent(query, session_id)\n",
    "print(response)"
   ]
  },
  {
   "cell_type": "code",
   "execution_count": 27,
   "id": "4067f346",
   "metadata": {},
   "outputs": [
    {
     "name": "stdout",
     "output_type": "stream",
     "text": [
      "Thank you for your order. I have successfully placed an order for 1 unit of the z12 wireless headphones to be delivered to Rohit Singh at 2323 Solar Drive, Austin, Texas. The order ID is ORD40166 and the estimated delivery date is 2024-06-07. The payment was processed using your default credit card.\n"
     ]
    }
   ],
   "source": [
    "# Place order - Invoke Agent to execute functions from Action Group\n",
    "session_id = str(uuid.uuid1())\n",
    "query = \"I want to order z12 wireless headphones and have them delivered to Rohit Singh at 2323 Solar Drive, Austin, Texas. Can you please use my default credit card for this order?\"\n",
    "\n",
    "response = invokeAgent(query, session_id)\n",
    "print(response)"
   ]
  },
  {
   "cell_type": "code",
   "execution_count": null,
   "id": "68fd3edb",
   "metadata": {},
   "outputs": [],
   "source": [
    "# Retrieve order information - Invoke Agent to execute functions from Action Group\n",
    "query = \"I want to get the details for order ORD40166.\"  # Replace Order ID with your order ID from previous step\n",
    "response = invokeAgent(query, session_id)\n",
    "print(response)"
   ]
  },
  {
   "cell_type": "code",
   "execution_count": null,
   "id": "e729c23d",
   "metadata": {},
   "outputs": [],
   "source": [
    "session_id:str = str(uuid.uuid1())\n",
    "query = \"Can you help cancel my order ORD40166?\"\n",
    "response = invokeAgent(query, session_id, enable_trace=True)\n",
    "print(response)"
   ]
  },
  {
   "cell_type": "markdown",
   "id": "5672b93c",
   "metadata": {},
   "source": [
    "# Clean up "
   ]
  },
  {
   "cell_type": "code",
   "execution_count": null,
   "id": "a091d466",
   "metadata": {},
   "outputs": [],
   "source": [
    "clean_up_resources(\n",
    "    table_name, order_lambda_function, order_lambda_function_name, order_agent_action_group_response, order_action_group_agent_functions, \n",
    "    customer_support_agent_id, customer_support_kb_id, alias_id\n",
    ")"
   ]
  },
  {
   "cell_type": "markdown",
   "id": "eead5a24",
   "metadata": {},
   "source": [
    "# Delete the agent roles and policies       "
   ]
  },
  {
   "cell_type": "code",
   "execution_count": null,
   "id": "0feb9004",
   "metadata": {},
   "outputs": [],
   "source": [
    "delete_agent_roles_and_policies(agent_name)"
   ]
  }
 ],
 "metadata": {
  "availableInstances": [
   {
    "_defaultOrder": 0,
    "_isFastLaunch": true,
    "category": "General purpose",
    "gpuNum": 0,
    "hideHardwareSpecs": false,
    "memoryGiB": 4,
    "name": "ml.t3.medium",
    "vcpuNum": 2
   },
   {
    "_defaultOrder": 1,
    "_isFastLaunch": false,
    "category": "General purpose",
    "gpuNum": 0,
    "hideHardwareSpecs": false,
    "memoryGiB": 8,
    "name": "ml.t3.large",
    "vcpuNum": 2
   },
   {
    "_defaultOrder": 2,
    "_isFastLaunch": false,
    "category": "General purpose",
    "gpuNum": 0,
    "hideHardwareSpecs": false,
    "memoryGiB": 16,
    "name": "ml.t3.xlarge",
    "vcpuNum": 4
   },
   {
    "_defaultOrder": 3,
    "_isFastLaunch": false,
    "category": "General purpose",
    "gpuNum": 0,
    "hideHardwareSpecs": false,
    "memoryGiB": 32,
    "name": "ml.t3.2xlarge",
    "vcpuNum": 8
   },
   {
    "_defaultOrder": 4,
    "_isFastLaunch": true,
    "category": "General purpose",
    "gpuNum": 0,
    "hideHardwareSpecs": false,
    "memoryGiB": 8,
    "name": "ml.m5.large",
    "vcpuNum": 2
   },
   {
    "_defaultOrder": 5,
    "_isFastLaunch": false,
    "category": "General purpose",
    "gpuNum": 0,
    "hideHardwareSpecs": false,
    "memoryGiB": 16,
    "name": "ml.m5.xlarge",
    "vcpuNum": 4
   },
   {
    "_defaultOrder": 6,
    "_isFastLaunch": false,
    "category": "General purpose",
    "gpuNum": 0,
    "hideHardwareSpecs": false,
    "memoryGiB": 32,
    "name": "ml.m5.2xlarge",
    "vcpuNum": 8
   },
   {
    "_defaultOrder": 7,
    "_isFastLaunch": false,
    "category": "General purpose",
    "gpuNum": 0,
    "hideHardwareSpecs": false,
    "memoryGiB": 64,
    "name": "ml.m5.4xlarge",
    "vcpuNum": 16
   },
   {
    "_defaultOrder": 8,
    "_isFastLaunch": false,
    "category": "General purpose",
    "gpuNum": 0,
    "hideHardwareSpecs": false,
    "memoryGiB": 128,
    "name": "ml.m5.8xlarge",
    "vcpuNum": 32
   },
   {
    "_defaultOrder": 9,
    "_isFastLaunch": false,
    "category": "General purpose",
    "gpuNum": 0,
    "hideHardwareSpecs": false,
    "memoryGiB": 192,
    "name": "ml.m5.12xlarge",
    "vcpuNum": 48
   },
   {
    "_defaultOrder": 10,
    "_isFastLaunch": false,
    "category": "General purpose",
    "gpuNum": 0,
    "hideHardwareSpecs": false,
    "memoryGiB": 256,
    "name": "ml.m5.16xlarge",
    "vcpuNum": 64
   },
   {
    "_defaultOrder": 11,
    "_isFastLaunch": false,
    "category": "General purpose",
    "gpuNum": 0,
    "hideHardwareSpecs": false,
    "memoryGiB": 384,
    "name": "ml.m5.24xlarge",
    "vcpuNum": 96
   },
   {
    "_defaultOrder": 12,
    "_isFastLaunch": false,
    "category": "General purpose",
    "gpuNum": 0,
    "hideHardwareSpecs": false,
    "memoryGiB": 8,
    "name": "ml.m5d.large",
    "vcpuNum": 2
   },
   {
    "_defaultOrder": 13,
    "_isFastLaunch": false,
    "category": "General purpose",
    "gpuNum": 0,
    "hideHardwareSpecs": false,
    "memoryGiB": 16,
    "name": "ml.m5d.xlarge",
    "vcpuNum": 4
   },
   {
    "_defaultOrder": 14,
    "_isFastLaunch": false,
    "category": "General purpose",
    "gpuNum": 0,
    "hideHardwareSpecs": false,
    "memoryGiB": 32,
    "name": "ml.m5d.2xlarge",
    "vcpuNum": 8
   },
   {
    "_defaultOrder": 15,
    "_isFastLaunch": false,
    "category": "General purpose",
    "gpuNum": 0,
    "hideHardwareSpecs": false,
    "memoryGiB": 64,
    "name": "ml.m5d.4xlarge",
    "vcpuNum": 16
   },
   {
    "_defaultOrder": 16,
    "_isFastLaunch": false,
    "category": "General purpose",
    "gpuNum": 0,
    "hideHardwareSpecs": false,
    "memoryGiB": 128,
    "name": "ml.m5d.8xlarge",
    "vcpuNum": 32
   },
   {
    "_defaultOrder": 17,
    "_isFastLaunch": false,
    "category": "General purpose",
    "gpuNum": 0,
    "hideHardwareSpecs": false,
    "memoryGiB": 192,
    "name": "ml.m5d.12xlarge",
    "vcpuNum": 48
   },
   {
    "_defaultOrder": 18,
    "_isFastLaunch": false,
    "category": "General purpose",
    "gpuNum": 0,
    "hideHardwareSpecs": false,
    "memoryGiB": 256,
    "name": "ml.m5d.16xlarge",
    "vcpuNum": 64
   },
   {
    "_defaultOrder": 19,
    "_isFastLaunch": false,
    "category": "General purpose",
    "gpuNum": 0,
    "hideHardwareSpecs": false,
    "memoryGiB": 384,
    "name": "ml.m5d.24xlarge",
    "vcpuNum": 96
   },
   {
    "_defaultOrder": 20,
    "_isFastLaunch": false,
    "category": "General purpose",
    "gpuNum": 0,
    "hideHardwareSpecs": true,
    "memoryGiB": 0,
    "name": "ml.geospatial.interactive",
    "supportedImageNames": [
     "sagemaker-geospatial-v1-0"
    ],
    "vcpuNum": 0
   },
   {
    "_defaultOrder": 21,
    "_isFastLaunch": true,
    "category": "Compute optimized",
    "gpuNum": 0,
    "hideHardwareSpecs": false,
    "memoryGiB": 4,
    "name": "ml.c5.large",
    "vcpuNum": 2
   },
   {
    "_defaultOrder": 22,
    "_isFastLaunch": false,
    "category": "Compute optimized",
    "gpuNum": 0,
    "hideHardwareSpecs": false,
    "memoryGiB": 8,
    "name": "ml.c5.xlarge",
    "vcpuNum": 4
   },
   {
    "_defaultOrder": 23,
    "_isFastLaunch": false,
    "category": "Compute optimized",
    "gpuNum": 0,
    "hideHardwareSpecs": false,
    "memoryGiB": 16,
    "name": "ml.c5.2xlarge",
    "vcpuNum": 8
   },
   {
    "_defaultOrder": 24,
    "_isFastLaunch": false,
    "category": "Compute optimized",
    "gpuNum": 0,
    "hideHardwareSpecs": false,
    "memoryGiB": 32,
    "name": "ml.c5.4xlarge",
    "vcpuNum": 16
   },
   {
    "_defaultOrder": 25,
    "_isFastLaunch": false,
    "category": "Compute optimized",
    "gpuNum": 0,
    "hideHardwareSpecs": false,
    "memoryGiB": 72,
    "name": "ml.c5.9xlarge",
    "vcpuNum": 36
   },
   {
    "_defaultOrder": 26,
    "_isFastLaunch": false,
    "category": "Compute optimized",
    "gpuNum": 0,
    "hideHardwareSpecs": false,
    "memoryGiB": 96,
    "name": "ml.c5.12xlarge",
    "vcpuNum": 48
   },
   {
    "_defaultOrder": 27,
    "_isFastLaunch": false,
    "category": "Compute optimized",
    "gpuNum": 0,
    "hideHardwareSpecs": false,
    "memoryGiB": 144,
    "name": "ml.c5.18xlarge",
    "vcpuNum": 72
   },
   {
    "_defaultOrder": 28,
    "_isFastLaunch": false,
    "category": "Compute optimized",
    "gpuNum": 0,
    "hideHardwareSpecs": false,
    "memoryGiB": 192,
    "name": "ml.c5.24xlarge",
    "vcpuNum": 96
   },
   {
    "_defaultOrder": 29,
    "_isFastLaunch": true,
    "category": "Accelerated computing",
    "gpuNum": 1,
    "hideHardwareSpecs": false,
    "memoryGiB": 16,
    "name": "ml.g4dn.xlarge",
    "vcpuNum": 4
   },
   {
    "_defaultOrder": 30,
    "_isFastLaunch": false,
    "category": "Accelerated computing",
    "gpuNum": 1,
    "hideHardwareSpecs": false,
    "memoryGiB": 32,
    "name": "ml.g4dn.2xlarge",
    "vcpuNum": 8
   },
   {
    "_defaultOrder": 31,
    "_isFastLaunch": false,
    "category": "Accelerated computing",
    "gpuNum": 1,
    "hideHardwareSpecs": false,
    "memoryGiB": 64,
    "name": "ml.g4dn.4xlarge",
    "vcpuNum": 16
   },
   {
    "_defaultOrder": 32,
    "_isFastLaunch": false,
    "category": "Accelerated computing",
    "gpuNum": 1,
    "hideHardwareSpecs": false,
    "memoryGiB": 128,
    "name": "ml.g4dn.8xlarge",
    "vcpuNum": 32
   },
   {
    "_defaultOrder": 33,
    "_isFastLaunch": false,
    "category": "Accelerated computing",
    "gpuNum": 4,
    "hideHardwareSpecs": false,
    "memoryGiB": 192,
    "name": "ml.g4dn.12xlarge",
    "vcpuNum": 48
   },
   {
    "_defaultOrder": 34,
    "_isFastLaunch": false,
    "category": "Accelerated computing",
    "gpuNum": 1,
    "hideHardwareSpecs": false,
    "memoryGiB": 256,
    "name": "ml.g4dn.16xlarge",
    "vcpuNum": 64
   },
   {
    "_defaultOrder": 35,
    "_isFastLaunch": false,
    "category": "Accelerated computing",
    "gpuNum": 1,
    "hideHardwareSpecs": false,
    "memoryGiB": 61,
    "name": "ml.p3.2xlarge",
    "vcpuNum": 8
   },
   {
    "_defaultOrder": 36,
    "_isFastLaunch": false,
    "category": "Accelerated computing",
    "gpuNum": 4,
    "hideHardwareSpecs": false,
    "memoryGiB": 244,
    "name": "ml.p3.8xlarge",
    "vcpuNum": 32
   },
   {
    "_defaultOrder": 37,
    "_isFastLaunch": false,
    "category": "Accelerated computing",
    "gpuNum": 8,
    "hideHardwareSpecs": false,
    "memoryGiB": 488,
    "name": "ml.p3.16xlarge",
    "vcpuNum": 64
   },
   {
    "_defaultOrder": 38,
    "_isFastLaunch": false,
    "category": "Accelerated computing",
    "gpuNum": 8,
    "hideHardwareSpecs": false,
    "memoryGiB": 768,
    "name": "ml.p3dn.24xlarge",
    "vcpuNum": 96
   },
   {
    "_defaultOrder": 39,
    "_isFastLaunch": false,
    "category": "Memory Optimized",
    "gpuNum": 0,
    "hideHardwareSpecs": false,
    "memoryGiB": 16,
    "name": "ml.r5.large",
    "vcpuNum": 2
   },
   {
    "_defaultOrder": 40,
    "_isFastLaunch": false,
    "category": "Memory Optimized",
    "gpuNum": 0,
    "hideHardwareSpecs": false,
    "memoryGiB": 32,
    "name": "ml.r5.xlarge",
    "vcpuNum": 4
   },
   {
    "_defaultOrder": 41,
    "_isFastLaunch": false,
    "category": "Memory Optimized",
    "gpuNum": 0,
    "hideHardwareSpecs": false,
    "memoryGiB": 64,
    "name": "ml.r5.2xlarge",
    "vcpuNum": 8
   },
   {
    "_defaultOrder": 42,
    "_isFastLaunch": false,
    "category": "Memory Optimized",
    "gpuNum": 0,
    "hideHardwareSpecs": false,
    "memoryGiB": 128,
    "name": "ml.r5.4xlarge",
    "vcpuNum": 16
   },
   {
    "_defaultOrder": 43,
    "_isFastLaunch": false,
    "category": "Memory Optimized",
    "gpuNum": 0,
    "hideHardwareSpecs": false,
    "memoryGiB": 256,
    "name": "ml.r5.8xlarge",
    "vcpuNum": 32
   },
   {
    "_defaultOrder": 44,
    "_isFastLaunch": false,
    "category": "Memory Optimized",
    "gpuNum": 0,
    "hideHardwareSpecs": false,
    "memoryGiB": 384,
    "name": "ml.r5.12xlarge",
    "vcpuNum": 48
   },
   {
    "_defaultOrder": 45,
    "_isFastLaunch": false,
    "category": "Memory Optimized",
    "gpuNum": 0,
    "hideHardwareSpecs": false,
    "memoryGiB": 512,
    "name": "ml.r5.16xlarge",
    "vcpuNum": 64
   },
   {
    "_defaultOrder": 46,
    "_isFastLaunch": false,
    "category": "Memory Optimized",
    "gpuNum": 0,
    "hideHardwareSpecs": false,
    "memoryGiB": 768,
    "name": "ml.r5.24xlarge",
    "vcpuNum": 96
   },
   {
    "_defaultOrder": 47,
    "_isFastLaunch": false,
    "category": "Accelerated computing",
    "gpuNum": 1,
    "hideHardwareSpecs": false,
    "memoryGiB": 16,
    "name": "ml.g5.xlarge",
    "vcpuNum": 4
   },
   {
    "_defaultOrder": 48,
    "_isFastLaunch": false,
    "category": "Accelerated computing",
    "gpuNum": 1,
    "hideHardwareSpecs": false,
    "memoryGiB": 32,
    "name": "ml.g5.2xlarge",
    "vcpuNum": 8
   },
   {
    "_defaultOrder": 49,
    "_isFastLaunch": false,
    "category": "Accelerated computing",
    "gpuNum": 1,
    "hideHardwareSpecs": false,
    "memoryGiB": 64,
    "name": "ml.g5.4xlarge",
    "vcpuNum": 16
   },
   {
    "_defaultOrder": 50,
    "_isFastLaunch": false,
    "category": "Accelerated computing",
    "gpuNum": 1,
    "hideHardwareSpecs": false,
    "memoryGiB": 128,
    "name": "ml.g5.8xlarge",
    "vcpuNum": 32
   },
   {
    "_defaultOrder": 51,
    "_isFastLaunch": false,
    "category": "Accelerated computing",
    "gpuNum": 1,
    "hideHardwareSpecs": false,
    "memoryGiB": 256,
    "name": "ml.g5.16xlarge",
    "vcpuNum": 64
   },
   {
    "_defaultOrder": 52,
    "_isFastLaunch": false,
    "category": "Accelerated computing",
    "gpuNum": 4,
    "hideHardwareSpecs": false,
    "memoryGiB": 192,
    "name": "ml.g5.12xlarge",
    "vcpuNum": 48
   },
   {
    "_defaultOrder": 53,
    "_isFastLaunch": false,
    "category": "Accelerated computing",
    "gpuNum": 4,
    "hideHardwareSpecs": false,
    "memoryGiB": 384,
    "name": "ml.g5.24xlarge",
    "vcpuNum": 96
   },
   {
    "_defaultOrder": 54,
    "_isFastLaunch": false,
    "category": "Accelerated computing",
    "gpuNum": 8,
    "hideHardwareSpecs": false,
    "memoryGiB": 768,
    "name": "ml.g5.48xlarge",
    "vcpuNum": 192
   },
   {
    "_defaultOrder": 55,
    "_isFastLaunch": false,
    "category": "Accelerated computing",
    "gpuNum": 8,
    "hideHardwareSpecs": false,
    "memoryGiB": 1152,
    "name": "ml.p4d.24xlarge",
    "vcpuNum": 96
   },
   {
    "_defaultOrder": 56,
    "_isFastLaunch": false,
    "category": "Accelerated computing",
    "gpuNum": 8,
    "hideHardwareSpecs": false,
    "memoryGiB": 1152,
    "name": "ml.p4de.24xlarge",
    "vcpuNum": 96
   },
   {
    "_defaultOrder": 57,
    "_isFastLaunch": false,
    "category": "Accelerated computing",
    "gpuNum": 0,
    "hideHardwareSpecs": false,
    "memoryGiB": 32,
    "name": "ml.trn1.2xlarge",
    "vcpuNum": 8
   },
   {
    "_defaultOrder": 58,
    "_isFastLaunch": false,
    "category": "Accelerated computing",
    "gpuNum": 0,
    "hideHardwareSpecs": false,
    "memoryGiB": 512,
    "name": "ml.trn1.32xlarge",
    "vcpuNum": 128
   },
   {
    "_defaultOrder": 59,
    "_isFastLaunch": false,
    "category": "Accelerated computing",
    "gpuNum": 0,
    "hideHardwareSpecs": false,
    "memoryGiB": 512,
    "name": "ml.trn1n.32xlarge",
    "vcpuNum": 128
   }
  ],
  "instance_type": "ml.t3.medium",
  "kernelspec": {
   "display_name": ".venv",
   "language": "python",
   "name": "python3"
  },
  "language_info": {
   "codemirror_mode": {
    "name": "ipython",
    "version": 3
   },
   "file_extension": ".py",
   "mimetype": "text/x-python",
   "name": "python",
   "nbconvert_exporter": "python",
   "pygments_lexer": "ipython3",
   "version": "3.13.6"
  }
 },
 "nbformat": 4,
 "nbformat_minor": 5
}
