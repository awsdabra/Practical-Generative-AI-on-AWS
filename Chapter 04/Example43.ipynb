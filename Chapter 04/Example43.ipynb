{
 "cells": [
  {
   "cell_type": "markdown",
   "metadata": {},
   "source": [
    "# Chapter 4 - Bedrock APIs: Car Damage Assessment with Claude 3\n",
    "\n",
    "## Overview\n",
    "This notebook demonstrates how to use Amazon Bedrock with Claude 3 for computer vision tasks, specifically car damage assessment. We'll explore how to process images and generate detailed damage reports using foundation models."
   ]
  },
  {
   "cell_type": "markdown",
   "metadata": {},
   "source": [
    "## Introduction\n",
    "This notebook demonstrates how to use foundation models with multimodal capabilities to automate insurance claims processing. We'll utilize Claude 3 Sonnet's vision capabilities to analyze car damage from images and generate detailed assessments that could streamline the claims process."
   ]
  },
  {
   "cell_type": "markdown",
   "metadata": {},
   "source": [
    "## Prerequisites\n",
    "- AWS account with Amazon Bedrock access\n",
    "- Access to Claude 3 Sonnet multimodal model\n",
    "- Car damage image for assessment"
   ]
  },
  {
   "cell_type": "markdown",
   "metadata": {},
   "source": [
    "## Setup"
   ]
  },
  {
   "cell_type": "markdown",
   "metadata": {},
   "source": [
    "### Install Required Dependencies"
   ]
  },
  {
   "cell_type": "code",
   "execution_count": null,
   "metadata": {},
   "outputs": [],
   "source": [
    "# Install required packages\n",
    "%pip install -U --no-cache-dir boto3"
   ]
  },
  {
   "cell_type": "markdown",
   "metadata": {},
   "source": [
    "### Import Libraries"
   ]
  },
  {
   "cell_type": "code",
   "execution_count": 42,
   "metadata": {},
   "outputs": [],
   "source": [
    "# 📦 Import libraries\n",
    "import json\n",
    "import os\n",
    "import sys\n",
    "\n",
    "import boto3\n",
    "import botocore\n",
    "\n",
    "# 🔧 Initialize Bedrock client\n",
    "boto3_bedrock = boto3.client('bedrock-runtime')"
   ]
  },
  {
   "cell_type": "markdown",
   "metadata": {},
   "source": [
    "## Image Processing"
   ]
  },
  {
   "cell_type": "markdown",
   "metadata": {},
   "source": [
    "### Load and Encode Image"
   ]
  },
  {
   "cell_type": "code",
   "execution_count": null,
   "metadata": {},
   "outputs": [],
   "source": [
    "# 🖼️ Import base64 for image encoding\n",
    "import base64\n",
    "\n",
    "# 📁 Load and encode image as base64\n",
    "with open(\"cardamage.jpg\", \"rb\") as f:\n",
    "    encoded_image = base64.b64encode(f.read()).decode('utf-8')"
   ]
  },
  {
   "cell_type": "markdown",
   "metadata": {},
   "source": [
    "## Define Assessment Prompt"
   ]
  },
  {
   "cell_type": "markdown",
   "metadata": {},
   "source": [
    "### Create Structured Prompt"
   ]
  },
  {
   "cell_type": "code",
   "execution_count": 44,
   "metadata": {},
   "outputs": [],
   "source": [
    "# 💬 Define damage assessment prompt\n",
    "prompt = \"\"\"\n",
    "You are an assistant to insurance claims agents. Your job is to provide an assessment in three categories - minor damage, moderate damage, and major damage. You can provide additional details such as what part of the vehicle is damage, what kind of repair will likely be require, and approximate average cost. Be reasonable, accurate, and do not inflate or deflate the extent of damage. \n",
    "\n",
    "Please provide your assessment for the supplied image.\n",
    "\"\"\""
   ]
  },
  {
   "cell_type": "markdown",
   "metadata": {},
   "source": [
    "## Build API Request"
   ]
  },
  {
   "cell_type": "markdown",
   "metadata": {},
   "source": [
    "### Construct Multimodal Payload"
   ]
  },
  {
   "cell_type": "code",
   "execution_count": 45,
   "metadata": {},
   "outputs": [],
   "source": [
    "# 🔨 Create request body for Claude\n",
    "body = json.dumps({\n",
    "    \"anthropic_version\": \"bedrock-2023-05-31\",\n",
    "    \"max_tokens\": 1000,\n",
    "    \"messages\": [\n",
    "      {\n",
    "        \"role\": \"user\",\n",
    "        \"content\": [\n",
    "          {\n",
    "            \"type\": \"image\",\n",
    "            \"source\": {\n",
    "              \"type\": \"base64\",\n",
    "              \"media_type\": \"image/jpeg\",\n",
    "              \"data\": encoded_image\n",
    "            }\n",
    "          },\n",
    "          {\n",
    "              \"type\": \"text\", \n",
    "              \"text\": prompt\n",
    "          }\n",
    "        ]\n",
    "      }\n",
    "    ],\n",
    "    \"temperature\":0.5,\n",
    "    \"top_k\":250,\n",
    "    \"top_p\":0.5,\n",
    "    \"stop_sequences\":[]\n",
    "})"
   ]
  },
  {
   "cell_type": "markdown",
   "metadata": {},
   "source": [
    "## Execute Assessment"
   ]
  },
  {
   "cell_type": "markdown",
   "metadata": {},
   "source": [
    "### Invoke Claude 3 Sonnet"
   ]
  },
  {
   "cell_type": "code",
   "execution_count": 46,
   "metadata": {},
   "outputs": [
    {
     "name": "stdout",
     "output_type": "stream",
     "text": [
      "Based on the image provided, I would assess the damage to the vehicle as follows:\n",
      "\n",
      "Major Damage:\n",
      "- The front end of the vehicle has sustained significant impact damage. Both the hood and front bumper appear to be heavily crumpled and deformed, indicating a high-energy collision.\n",
      "- There is likely structural damage to the front frame rails and other components that provide structural integrity to the vehicle's front end.\n",
      "\n",
      "Moderate Damage:\n",
      "- The headlight assemblies on both sides appear to be broken or dislodged from their housings.\n",
      "- Depending on the extent of the impact, there may be moderate damage to the radiator, cooling system components, and other mechanical parts located in the engine compartment.\n",
      "\n",
      "Minor Damage:\n",
      "- The windshield seems to be intact, but there may be minor cracks or chips that need to be addressed.\n",
      "- The side mirrors and other exterior trim pieces may have sustained minor scratches or dents.\n",
      "\n",
      "Repair Considerations:\n",
      "Given the severity of the front-end damage, it is likely that the vehicle will require extensive repairs or potentially be deemed a total loss (if the repair costs exceed a certain percentage of the vehicle's value). Repairs may involve replacing the entire front-end assembly, including the hood, bumper, headlights, radiator, and potentially the front frame rails. Proper alignment and structural integrity must be ensured for safe operation.\n",
      "\n",
      "Approximate Average Cost:\n",
      "The cost of repairs for this level of damage can vary significantly depending on the make and model of the vehicle, the availability of parts, and the labor rates in the area. However, as a rough estimate, major front-end collision repairs can range from $5,000 to $15,000 or more for a typical passenger vehicle.\n",
      "\n",
      "Please note that this assessment is based solely on the provided image, and a thorough inspection by a qualified technician would be necessary to provide a more accurate estimate of the damage and repair costs.\n"
     ]
    }
   ],
   "source": [
    "# 🚀 Call Claude 3 Sonnet model\n",
    "modelId = 'anthropic.claude-3-sonnet-20240229-v1:0'\n",
    "accept = 'application/json'\n",
    "contentType = 'application/json'\n",
    "\n",
    "try:\n",
    "    # 📡 Send request and get response\n",
    "    response = boto3_bedrock.invoke_model(body=body, modelId=modelId, accept=accept, contentType=contentType)\n",
    "    response_body = json.loads(response.get('body').read())\n",
    "\n",
    "    # 📋 Display assessment results\n",
    "    print(response_body.get('content')[0]['text'])\n",
    "    \n",
    "except botocore.exceptions.ClientError as error:\n",
    "    # ⚠️ Handle permission errors\n",
    "    if error.response['Error']['Code'] == 'AccessDeniedException':\n",
    "           print(f\"\\x1b[41m{error.response['Error']['Message']}\\\n",
    "                \\nTo troubeshoot this issue please refer to the following resources.\\\n",
    "                 \\nhttps://docs.aws.amazon.com/IAM/latest/UserGuide/troubleshoot_access-denied.html\\\n",
    "                 \\nhttps://docs.aws.amazon.com/bedrock/latest/userguide/security-iam.html\\x1b[0m\\n\")\n",
    "        \n",
    "    else:\n",
    "        raise error"
   ]
  },
  {
   "cell_type": "markdown",
   "metadata": {},
   "source": [
    "## Conclusion\n",
    "\n",
    "In this notebook, we've demonstrated how to leverage Amazon Bedrock's Claude 3 Sonnet model to automate vehicle damage assessment for insurance claims processing. This approach brings several key advantages:\n",
    "\n",
    "1. **Efficiency Gains**: Automating the initial damage assessment can significantly reduce the time required to process insurance claims, providing faster service to customers.\n",
    "\n",
    "2. **Consistency**: AI-based assessments can help standardize the evaluation process across different claims, reducing variability between human adjusters.\n",
    "\n",
    "3. **Documentation Support**: The detailed analysis generated by the model can serve as supporting documentation for claims, providing transparent explanations of damage categorization.\n",
    "\n",
    "4. **Cost Reduction**: Streamlining the assessment process can lower operational costs for insurance companies while improving customer satisfaction through faster resolution.\n",
    "\n",
    "The multimodal capabilities of foundation models like Claude 3 enable this solution to analyze visual information and provide structured textual outputs that align with insurance industry requirements. The model can categorize damage severity, identify affected vehicle components, suggest repair approaches, and estimate potential costs.\n",
    "\n",
    "For production implementations, this approach could be extended by:\n",
    "\n",
    "- Integrating with claims management systems\n",
    "- Creating a feedback loop for continuous improvement\n",
    "- Building comparison databases of similar damage cases\n",
    "- Developing specialized prompts for different vehicle types and damage scenarios\n",
    "- Implementing confidence scoring for human review escalation\n",
    "\n",
    "This technology demonstrates how AI can transform traditional, labor-intensive processes in the insurance industry while maintaining accuracy and improving the overall claims experience."
   ]
  },
  {
   "cell_type": "code",
   "execution_count": null,
   "metadata": {},
   "outputs": [],
   "source": []
  }
 ],
 "metadata": {
  "kernelspec": {
   "display_name": "Python 3 (ipykernel)",
   "language": "python",
   "name": "python3"
  },
  "language_info": {
   "codemirror_mode": {
    "name": "ipython",
    "version": 3
   },
   "file_extension": ".py",
   "mimetype": "text/x-python",
   "name": "python",
   "nbconvert_exporter": "python",
   "pygments_lexer": "ipython3",
   "version": "3.12.9"
  }
 },
 "nbformat": 4,
 "nbformat_minor": 4
}
