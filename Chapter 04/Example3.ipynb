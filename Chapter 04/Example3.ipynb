{
 "cells": [
  {
   "cell_type": "markdown",
   "metadata": {},
   "source": [
    "In this example, you are going to assessing car damage using computer vision capabilities of FMS to automate insurance claims."
   ]
  },
  {
   "cell_type": "markdown",
   "metadata": {},
   "source": [
    "In the following cell, we are importing necessary packages and setting up a bedrock client."
   ]
  },
  {
   "cell_type": "code",
   "execution_count": 42,
   "metadata": {},
   "outputs": [],
   "source": [
    "import json\n",
    "import os\n",
    "import sys\n",
    "\n",
    "import boto3\n",
    "import botocore\n",
    "\n",
    "boto3_bedrock = boto3.client('bedrock-runtime')"
   ]
  },
  {
   "cell_type": "markdown",
   "metadata": {},
   "source": [
    "In the cell below, we are reading the image file and converting it to base64-encoded string."
   ]
  },
  {
   "cell_type": "code",
   "execution_count": 43,
   "metadata": {},
   "outputs": [],
   "source": [
    "#import image locally, read it and convert it into base64\n",
    "import base64\n",
    "from PIL import Image\n",
    "\n",
    "# Convert the image to base64 format\n",
    "with open(\"<PATH_TO_THE_IMAGE>\", \"rb\") as f:\n",
    "    encoded_image = base64.b64encode(f.read()).decode('utf-8')"
   ]
  },
  {
   "cell_type": "markdown",
   "metadata": {},
   "source": [
    "In the prompt instruction below, we are giving a persona to the model and providing instructions on the task they need to perform."
   ]
  },
  {
   "cell_type": "code",
   "execution_count": 44,
   "metadata": {},
   "outputs": [],
   "source": [
    "prompt = \"\"\"\n",
    "You are an assistant to insurance claims agents. Your job is to provide an assessment in three categories - minor damage, moderate damage, and major damage. You can provide additional details such as what part of the vehicle is damage, what kind of repair will likely be require, and approximate average cost. Be reasonable, accurate, and do not inflate or deflate the extent of damage. \n",
    "\n",
    "Please provide your assessment for the supplied image.\n",
    "\"\"\""
   ]
  },
  {
   "cell_type": "markdown",
   "metadata": {},
   "source": [
    "Creating request body according to the model requirement."
   ]
  },
  {
   "cell_type": "code",
   "execution_count": 45,
   "metadata": {},
   "outputs": [],
   "source": [
    "body = json.dumps({\n",
    "    \"anthropic_version\": \"bedrock-2023-05-31\",\n",
    "    \"max_tokens\": 1000,\n",
    "    \"messages\": [\n",
    "      {\n",
    "        \"role\": \"user\",\n",
    "        \"content\": [\n",
    "          {\n",
    "            \"type\": \"image\",\n",
    "            \"source\": {\n",
    "              \"type\": \"base64\",\n",
    "              \"media_type\": \"image/jpeg\",\n",
    "              \"data\": encoded_image\n",
    "            }\n",
    "          },\n",
    "          {\n",
    "              \"type\": \"text\", \n",
    "              \"text\": prompt\n",
    "          }\n",
    "        ]\n",
    "      }\n",
    "    ],\n",
    "    \"temperature\":0.5,\n",
    "    \"top_k\":250,\n",
    "    \"top_p\":0.5,\n",
    "    \"stop_sequences\":[]\n",
    "})"
   ]
  },
  {
   "cell_type": "markdown",
   "metadata": {},
   "source": [
    "Invoking Claude 3 Sonnet model and supplying the prepared prompt along with the image as part of the request body."
   ]
  },
  {
   "cell_type": "code",
   "execution_count": 46,
   "metadata": {},
   "outputs": [
    {
     "name": "stdout",
     "output_type": "stream",
     "text": [
      "Based on the image provided, I would assess the damage to the vehicle as follows:\n",
      "\n",
      "Major Damage:\n",
      "- The front end of the vehicle has sustained significant impact damage. Both the hood and front bumper appear to be heavily crumpled and deformed, indicating a high-energy collision.\n",
      "- There is likely structural damage to the front frame rails and other components that provide structural integrity to the vehicle's front end.\n",
      "\n",
      "Moderate Damage:\n",
      "- The headlight assemblies on both sides appear to be broken or dislodged from their housings.\n",
      "- Depending on the extent of the impact, there may be moderate damage to the radiator, cooling system components, and other mechanical parts located in the engine compartment.\n",
      "\n",
      "Minor Damage:\n",
      "- The windshield seems to be intact, but there may be minor cracks or chips that need to be addressed.\n",
      "- The side mirrors and other exterior trim pieces may have sustained minor scratches or dents.\n",
      "\n",
      "Repair Considerations:\n",
      "Given the severity of the front-end damage, it is likely that the vehicle will require extensive repairs or potentially be deemed a total loss (if the repair costs exceed a certain percentage of the vehicle's value). Repairs may involve replacing the entire front-end assembly, including the hood, bumper, headlights, radiator, and potentially the front frame rails. Proper alignment and structural integrity must be ensured for safe operation.\n",
      "\n",
      "Approximate Average Cost:\n",
      "The cost of repairs for this level of damage can vary significantly depending on the make and model of the vehicle, the availability of parts, and the labor rates in the area. However, as a rough estimate, major front-end collision repairs can range from $5,000 to $15,000 or more for a typical passenger vehicle.\n",
      "\n",
      "Please note that this assessment is based solely on the provided image, and a thorough inspection by a qualified technician would be necessary to provide a more accurate estimate of the damage and repair costs.\n"
     ]
    }
   ],
   "source": [
    "modelId = 'anthropic.claude-3-sonnet-20240229-v1:0'\n",
    "accept = 'application/json'\n",
    "contentType = 'application/json'\n",
    "\n",
    "try:\n",
    "\n",
    "    response = boto3_bedrock.invoke_model(body=body, modelId=modelId, accept=accept, contentType=contentType)\n",
    "    response_body = json.loads(response.get('body').read())\n",
    "\n",
    "    #printing the generated response from the model.\n",
    "    print(response_body.get('content')[0]['text'])\n",
    "    \n",
    "except botocore.exceptions.ClientError as error:\n",
    "    \n",
    "    if error.response['Error']['Code'] == 'AccessDeniedException':\n",
    "           print(f\"\\x1b[41m{error.response['Error']['Message']}\\\n",
    "                \\nTo troubeshoot this issue please refer to the following resources.\\\n",
    "                 \\nhttps://docs.aws.amazon.com/IAM/latest/UserGuide/troubleshoot_access-denied.html\\\n",
    "                 \\nhttps://docs.aws.amazon.com/bedrock/latest/userguide/security-iam.html\\x1b[0m\\n\")\n",
    "        \n",
    "    else:\n",
    "        raise error"
   ]
  }
 ],
 "metadata": {
  "kernelspec": {
   "display_name": "Python 3",
   "language": "python",
   "name": "python3"
  },
  "language_info": {
   "codemirror_mode": {
    "name": "ipython",
    "version": 3
   },
   "file_extension": ".py",
   "mimetype": "text/x-python",
   "name": "python",
   "nbconvert_exporter": "python",
   "pygments_lexer": "ipython3",
   "version": "3.10.8"
  }
 },
 "nbformat": 4,
 "nbformat_minor": 2
}
