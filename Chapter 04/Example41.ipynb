{
 "cells": [
  {
   "cell_type": "markdown",
   "metadata": {},
   "source": [
    "# Chapter 4 - Bedrock APIs: Working with Amazon Bedrock APIs\n",
    "\n",
    "## Overview\n",
    "This notebook demonstrates how to interact with Amazon Bedrock APIs. We'll explore how to list available foundation models, generate text using the standard API, and use the newer Converse API for multi-turn conversations."
   ]
  },
  {
   "cell_type": "markdown",
   "metadata": {},
   "source": [
    "## Introduction\n",
    "This notebook demonstrates how to interact with Amazon Bedrock APIs. We'll explore how to list available foundation models, generate text using the standard API, and use the newer Converse API for multi-turn conversations."
   ]
  },
  {
   "cell_type": "markdown",
   "metadata": {},
   "source": [
    "## Prerequisites\n",
    "- AWS account with Amazon Bedrock access\n",
    "- Access to Claude 3 models\n",
    "- Basic understanding of AWS SDK for Python (boto3)"
   ]
  },
  {
   "cell_type": "markdown",
   "metadata": {},
   "source": [
    "## Setup"
   ]
  },
  {
   "cell_type": "markdown",
   "metadata": {},
   "source": [
    "### Install Required Dependencies"
   ]
  },
  {
   "cell_type": "code",
   "execution_count": null,
   "metadata": {},
   "outputs": [],
   "source": [
    "# Install the AWS SDK for Python\n",
    "%pip install boto3"
   ]
  },
  {
   "cell_type": "markdown",
   "metadata": {},
   "source": [
    "### Import Libraries"
   ]
  },
  {
   "cell_type": "code",
   "execution_count": null,
   "metadata": {},
   "outputs": [],
   "source": [
    "# Initialize Bedrock client and list all available foundation models\n",
    "import boto3"
   ]
  },
  {
   "cell_type": "markdown",
   "metadata": {},
   "source": [
    "## Listing Foundation Models"
   ]
  },
  {
   "cell_type": "markdown",
   "metadata": {},
   "source": [
    "### Initialize Bedrock Client"
   ]
  },
  {
   "cell_type": "code",
   "execution_count": null,
   "metadata": {},
   "outputs": [],
   "source": [
    "# Create Bedrock client for model management operations\n",
    "bedrock = boto3.client(service_name='bedrock')\n"
   ]
  },
  {
   "cell_type": "code",
   "execution_count": null,
   "metadata": {},
   "outputs": [],
   "source": [
    "\n",
    "# Get list of all foundation models available in Bedrock\n",
    "response = bedrock.list_foundation_models()\n",
    "print (response)"
   ]
  },
  {
   "cell_type": "markdown",
   "metadata": {},
   "source": [
    "## Text Generation with Standard API"
   ]
  },
  {
   "cell_type": "markdown",
   "metadata": {},
   "source": [
    "### Generate Text with Claude 3 Haiku"
   ]
  },
  {
   "cell_type": "code",
   "execution_count": null,
   "metadata": {},
   "outputs": [],
   "source": [
    "# Generate text using Claude 3 Haiku model via Bedrock Runtime\n",
    "import json\n",
    "\n",
    "# Create Bedrock Runtime client for model inference\n",
    "bedrockruntime = boto3.client(service_name='bedrock-runtime')\n",
    "\n",
    "# Prepare request body with prompt and parameters\n",
    "body = json.dumps({\n",
    "    \"max_tokens\": 1000,\n",
    "    \"anthropic_version\": \"bedrock-2023-05-31\",\n",
    "    \"messages\": [\n",
    "      {\n",
    "        \"role\": \"user\",\n",
    "        \"content\": [\n",
    "          {\n",
    "            \"type\": \"text\",\n",
    "            \"text\": \"Explain LLMs to a 8th grader.\"\n",
    "          }\n",
    "        ]\n",
    "      }\n",
    "    ]\n",
    "  })\n",
    "\n",
    "# Set model ID and content type\n",
    "modelId = 'anthropic.claude-3-haiku-20240307-v1:0'\n",
    "accept = 'application/json'\n",
    "contentType = 'application/json'\n",
    "\n",
    "# Invoke the model and get response\n",
    "response = bedrockruntime.invoke_model(body=body, modelId=modelId, accept=accept, contentType=contentType)\n",
    "response_body = json.loads(response.get('body').read())\n",
    "\n",
    "# Extract and print the generated text\n",
    "print(response_body.get('content')[0]['text'])\n"
   ]
  },
  {
   "cell_type": "markdown",
   "metadata": {},
   "source": [
    "## Using the Converse API"
   ]
  },
  {
   "cell_type": "markdown",
   "metadata": {},
   "source": [
    "### Multi-turn Conversation"
   ]
  },
  {
   "cell_type": "code",
   "execution_count": null,
   "metadata": {},
   "outputs": [],
   "source": [
    "# Use Converse API for simplified conversation handling\n",
    "\n",
    "# Initialize message list for conversation\n",
    "message_list = []\n",
    "\n",
    "# Create initial user message\n",
    "initial_message = {\n",
    "    \"role\": \"user\",\n",
    "    \"content\": [\n",
    "        {\"text\": \"Tell me a funny joke about Space.\"}\n",
    "    ]\n",
    "}\n",
    "\n",
    "# Add message to conversation list\n",
    "message_list.append(initial_message)\n",
    "\n",
    "# Call Converse API with simplified parameters\n",
    "response = bedrockruntime.converse(\n",
    "    modelId=\"anthropic.claude-3-haiku-20240307-v1:0\",\n",
    "    messages=message_list,\n",
    "    inferenceConfig={\n",
    "        \"maxTokens\": 2000,\n",
    "        \"temperature\": 0\n",
    "    }\n",
    ")\n",
    "\n",
    "# Extract response message\n",
    "response_message = response['output']['message']\n",
    "\n",
    "# Print formatted response\n",
    "print(json.dumps(response_message, indent=4))\n"
   ]
  },
  {
   "cell_type": "markdown",
   "metadata": {},
   "source": [
    "## Conclusion\n",
    "\n",
    "In this notebook, we explored three key Amazon Bedrock APIs:\n",
    "\n",
    "1. **Model Management API**: We demonstrated how to list available foundation models in your account.\n",
    "\n",
    "2. **Standard Inference API**: We used the invoke_model method to generate text with Claude 3 Haiku using the standard request/response format.\n",
    "\n",
    "3. **Converse API**: We explored the simplified Converse API for more intuitive conversational interactions.\n",
    "\n",
    "These APIs provide flexible options for integrating Amazon Bedrock's foundation models into applications, from simple text generation to complex multi-turn conversations. The Converse API in particular offers a more streamlined approach for building conversational experiences.\n",
    "\n",
    "For future exploration, you could consider:\n",
    "- Testing with different models (Claude, Titan, Llama)\n",
    "- Adjusting generation parameters like temperature and top-p\n",
    "- Building multi-turn conversations with memory\n",
    "- Integrating streaming responses for real-time applications\n",
    "\n",
    "Amazon Bedrock's API suite provides powerful tools for leveraging foundation models while maintaining control over model selection, parameters, and integration patterns."
   ]
  },
  {
   "cell_type": "code",
   "execution_count": null,
   "metadata": {},
   "outputs": [],
   "source": []
  }
 ],
 "metadata": {
  "kernelspec": {
   "display_name": "Python 3 (ipykernel)",
   "language": "python",
   "name": "python3"
  },
  "language_info": {
   "codemirror_mode": {
    "name": "ipython",
    "version": 3
   },
   "file_extension": ".py",
   "mimetype": "text/x-python",
   "name": "python",
   "nbconvert_exporter": "python",
   "pygments_lexer": "ipython3",
   "version": "3.12.9"
  }
 },
 "nbformat": 4,
 "nbformat_minor": 4
}
