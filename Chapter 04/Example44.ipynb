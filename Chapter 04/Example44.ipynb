{
 "cells": [
  {
   "cell_type": "markdown",
   "metadata": {},
   "source": [
    "# Chapter 4 - Bedrock APIs: Product Description and Visual Generator\n",
    "\n",
    "## Overview\n",
    "This notebook demonstrates how to use Amazon Bedrock for content generation tasks, specifically creating product descriptions and visual content. We'll explore how to leverage foundation models for creative and marketing applications."
   ]
  },
  {
   "cell_type": "markdown",
   "metadata": {},
   "source": [
    "## Introduction\n",
    "This notebook demonstrates how to leverage Amazon Bedrock's foundation models to generate compelling product descriptions and visuals based on product concepts. By combining text generation with image creation capabilities, you can quickly prototype product ideas and create marketing materials"
   ]
  },
  {
   "cell_type": "markdown",
   "metadata": {},
   "source": [
    "## Prerequisites\n",
    "- AWS account with Amazon Bedrock access\n",
    "- Access to Claude 3 Sonnet and Nova Canvas models\n",
    "- Basic understanding of Python and AWS SDK"
   ]
  },
  {
   "cell_type": "markdown",
   "metadata": {},
   "source": [
    "## Setup"
   ]
  },
  {
   "cell_type": "markdown",
   "metadata": {},
   "source": [
    "### Install Required Dependencies"
   ]
  },
  {
   "cell_type": "code",
   "execution_count": null,
   "metadata": {},
   "outputs": [],
   "source": [
    "# Install required packages\n",
    "import sys\n",
    "!{sys.executable} -m pip install Pillow"
   ]
  },
  {
   "cell_type": "markdown",
   "metadata": {},
   "source": [
    "### Import Libraries"
   ]
  },
  {
   "cell_type": "code",
   "execution_count": null,
   "metadata": {},
   "outputs": [],
   "source": [
    "import json\n",
    "import os\n",
    "import sys\n",
    "\n",
    "import boto3\n",
    "import botocore\n",
    "\n",
    "import base64\n",
    "from PIL import Image\n",
    "from io import BytesIO\n",
    "\n",
    "boto3_bedrock = boto3.client('bedrock-runtime')"
   ]
  },
  {
   "cell_type": "markdown",
   "metadata": {},
   "source": [
    "## Product Concept Definition"
   ]
  },
  {
   "cell_type": "markdown",
   "metadata": {
    "execution": {
     "iopub.execute_input": "2025-07-08T21:32:57.375196Z",
     "iopub.status.busy": "2025-07-08T21:32:57.374817Z",
     "iopub.status.idle": "2025-07-08T21:32:57.379554Z",
     "shell.execute_reply": "2025-07-08T21:32:57.378385Z",
     "shell.execute_reply.started": "2025-07-08T21:32:57.375169Z"
    }
   },
   "source": [
    "### Define Product Idea"
   ]
  },
  {
   "cell_type": "code",
   "execution_count": null,
   "metadata": {},
   "outputs": [],
   "source": [
    "user_input = \"Baby Stroller and Scooter Hybrid\""
   ]
  },
  {
   "cell_type": "code",
   "execution_count": null,
   "metadata": {},
   "outputs": [],
   "source": [
    "text_prompt = f\"\"\"\n",
    "You are an assistant designed to help product teams craft compelling and informative product descriptions. Your task is to generate detailed, realistic, and easy-to-understand product descriptions based on the user's input about their product idea.\n",
    "\n",
    "Your product descriptions should be realistic, clear, concise, and effectively convey the key features, benefits, and unique selling points of the product. Your goal is to create descriptions that are engaging, persuasive, and help potential customers understand the value and functionality of the product.\n",
    "\n",
    "Please use the user input user to understand their product concept and tailor the descriptions accordingly. Your output should be of a professional quality, reflecting the specific needs and requirements of the product team.\n",
    "\n",
    "Here is the product idea - ```{user_input}```\n",
    "\"\"\""
   ]
  },
  {
   "cell_type": "markdown",
   "metadata": {},
   "source": [
    "## Generate Product Description"
   ]
  },
  {
   "cell_type": "markdown",
   "metadata": {},
   "source": [
    "### Configure and Call Claude 3 Sonnet"
   ]
  },
  {
   "cell_type": "code",
   "execution_count": null,
   "metadata": {},
   "outputs": [],
   "source": [
    "body = json.dumps({\n",
    "    \"anthropic_version\": \"bedrock-2023-05-31\",\n",
    "    \"max_tokens\": 1000,\n",
    "    \"messages\": [\n",
    "      {\n",
    "        \"role\": \"user\",\n",
    "        \"content\": [\n",
    "          {\n",
    "              \"type\": \"text\", \n",
    "              \"text\": text_prompt\n",
    "          }\n",
    "        ]\n",
    "      }\n",
    "    ],\n",
    "    \"temperature\":0.5,\n",
    "    \"top_k\":250,\n",
    "    \"top_p\":0.5,\n",
    "    \"stop_sequences\":[]\n",
    "})"
   ]
  },
  {
   "cell_type": "markdown",
   "metadata": {},
   "source": [
    "### Generate Product Description with Claude 3 Sonnet"
   ]
  },
  {
   "cell_type": "code",
   "execution_count": null,
   "metadata": {},
   "outputs": [],
   "source": [
    "modelId = 'anthropic.claude-3-sonnet-20240229-v1:0'\n",
    "accept = 'application/json'\n",
    "contentType = 'application/json'\n",
    "\n",
    "try:\n",
    "    response = boto3_bedrock.invoke_model(body=body, modelId=modelId, accept=accept, contentType=contentType)\n",
    "    response_body = json.loads(response.get('body').read())\n",
    "\n",
    "    print(response_body.get('content')[0]['text'])\n",
    "    \n",
    "except botocore.exceptions.ClientError as error:\n",
    "    if error.response['Error']['Code'] == 'AccessDeniedException':\n",
    "           print(f\"\\x1b[41m{error.response['Error']['Message']}\\\n",
    "                \\nTo troubeshoot this issue please refer to the following resources.\\\n",
    "                 \\nhttps://docs.aws.amazon.com/IAM/latest/UserGuide/troubleshoot_access-denied.html\\\n",
    "                 \\nhttps://docs.aws.amazon.com/bedrock/latest/userguide/security-iam.html\\x1b[0m\\n\")\n",
    "        \n",
    "    else:\n",
    "        raise error"
   ]
  },
  {
   "cell_type": "markdown",
   "metadata": {},
   "source": [
    "## Generate Product Visual"
   ]
  },
  {
   "cell_type": "markdown",
   "metadata": {},
   "source": [
    "### Configure and Call Nova Canvas"
   ]
  },
  {
   "cell_type": "code",
   "execution_count": null,
   "metadata": {},
   "outputs": [],
   "source": [
    "# Nova Canvas Image Generation\n",
    "nova_prompt = f\"\"\"\n",
    "Create a professional product photo of a {user_input}.\n",
    "The image should show a sleek, modern design with clean lines and premium materials.\n",
    "Show the product in a bright, well-lit studio setting with a clean white background.\n",
    "The hybrid design should be clearly visible, demonstrating both stroller and scooter functionality.\n",
    "Include safety features like harnesses and brakes. Make it look realistic, usable, innovative and family-friendly.\n",
    "High quality, professional product photography style.\n",
    "\"\"\"\n",
    "\n",
    "nova_body = json.dumps({\n",
    "        \"taskType\": \"TEXT_IMAGE\",\n",
    "        \"textToImageParams\": {\n",
    "            \"text\": nova_prompt\n",
    "        },\n",
    "        \"imageGenerationConfig\": {\n",
    "            \"numberOfImages\": 1,\n",
    "            \"height\": 1024,\n",
    "            \"width\": 1024,\n",
    "            \"cfgScale\": 8.0,\n",
    "            \"seed\": 0\n",
    "        }\n",
    "    })"
   ]
  },
  {
   "cell_type": "code",
   "execution_count": null,
   "metadata": {},
   "outputs": [],
   "source": [
    "# Generate image with Nova Canvas\n",
    "nova_model_id = 'amazon.nova-canvas-v1:0'\n",
    "\n",
    "try:\n",
    "    nova_response = boto3_bedrock.invoke_model(\n",
    "        body=nova_body,\n",
    "        modelId=nova_model_id,\n",
    "        accept='application/json',\n",
    "        contentType='application/json'\n",
    "    )\n",
    "    \n",
    "    nova_response_body = json.loads(nova_response.get('body').read())\n",
    "    nova_image_data = nova_response_body['images'][0]\n",
    "    \n",
    "    # Decode and display the image\n",
    "    nova_image_bytes = base64.b64decode(nova_image_data)\n",
    "    nova_image = Image.open(BytesIO(nova_image_bytes))\n",
    "    \n",
    "    print(\"Nova Canvas generated image:\")\n",
    "    display(nova_image)\n",
    "    \n",
    "except botocore.exceptions.ClientError as error:\n",
    "    if error.response['Error']['Code'] == 'AccessDeniedException':\n",
    "        print(f\"\\x1b[41m{error.response['Error']['Message']}\\n\"\n",
    "              \"To troubleshoot this issue please refer to the following resources.\\n\"\n",
    "              \"https://docs.aws.amazon.com/IAM/latest/UserGuide/troubleshoot_access-denied.html\\n\"\n",
    "              \"https://docs.aws.amazon.com/bedrock/latest/userguide/security-iam.html\\x1b[0m\\n\")\n",
    "    else:\n",
    "        raise error"
   ]
  },
  {
   "cell_type": "markdown",
   "metadata": {},
   "source": [
    "## Conclusion\n",
    "\n",
    "This notebook demonstrates a powerful workflow for product concept development and marketing content creation using foundation models. By combining Claude 3 Sonnet's sophisticated text generation with Nova Canvas's visual creation capabilities, we've shown how you can:\n",
    "\n",
    "1. **Rapidly Prototype Ideas**: Transform simple product concepts into detailed descriptions and visual representations in minutes rather than days or weeks.\n",
    "\n",
    "2. **Generate Marketing Content**: Create professional-quality product descriptions suitable for websites, catalogs, and other marketing materials.\n",
    "\n",
    "3. **Visualize Concepts**: Generate realistic product images without photography or complex design work.\n",
    "\n",
    "4. **Iterate Efficiently**: Quickly refine both descriptions and visuals by adjusting prompts based on feedback.\n",
    "\n",
    "This approach has numerous practical applications:\n",
    "- Product development teams exploring new concepts\n",
    "- Marketing teams creating preliminary materials\n",
    "- Startups developing pitch materials\n",
    "- E-commerce businesses building product listings\n",
    "\n",
    "The combination of text and image generation demonstrates how foundation models can enhance creativity and productivity in product development and marketing workflows. By leveraging these capabilities through Amazon Bedrock's API, businesses can significantly accelerate their ideation-to-market process.\n",
    "\n",
    "For further development, you could explore:\n",
    "- Adding variation controls to generate multiple product versions\n",
    "- Creating targeted descriptions for different audience segments\n",
    "- Generating complementary assets like lifestyle images or usage scenarios\n",
    "- Implementing feedback loops to iteratively improve outputs based on user preferences\n",
    "\n",
    "This demonstrates just one of many possible workflows that combine multiple foundation models to solve complex business problems through Amazon Bedrock."
   ]
  },
  {
   "cell_type": "code",
   "execution_count": null,
   "metadata": {},
   "outputs": [],
   "source": []
  }
 ],
 "metadata": {
  "kernelspec": {
   "display_name": "Python 3 (ipykernel)",
   "language": "python",
   "name": "python3"
  },
  "language_info": {
   "codemirror_mode": {
    "name": "ipython",
    "version": 3
   },
   "file_extension": ".py",
   "mimetype": "text/x-python",
   "name": "python",
   "nbconvert_exporter": "python",
   "pygments_lexer": "ipython3",
   "version": "3.12.9"
  }
 },
 "nbformat": 4,
 "nbformat_minor": 4
}
