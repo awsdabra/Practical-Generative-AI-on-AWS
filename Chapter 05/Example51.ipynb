{
 "cells": [
  {
   "cell_type": "markdown",
   "metadata": {},
   "source": [
    "# Chapter 5 - Knowledge Bases: Chat with Your Document using Amazon Bedrock\n",
    "\n",
    "## Overview\n",
    "This notebook demonstrates how to build an interactive document question-answering system using Amazon Bedrock's retrieve and generate capabilities. By combining document processing with foundation models, you'll be able to ask natural language questions about documents and receive accurate, contextually relevant answers."
   ]
  },
  {
   "cell_type": "markdown",
   "metadata": {},
   "source": [
    "## Introduction\n",
    "This notebook demonstrates how to build an interactive document question-answering system using Amazon Bedrock's retrieve and generate capabilities. By combining document processing with foundation models, you'll be able to ask natural language questions about documents and receive accurate, contextually relevant answers."
   ]
  },
  {
   "cell_type": "markdown",
   "metadata": {},
   "source": [
    "## Prerequisites\n",
    "- AWS account with Amazon Bedrock access\n",
    "- Access to Claude 3 Sonnet model\n",
    "- PDF documents for question answering\n",
    "- Python environment with required packages"
   ]
  },
  {
   "cell_type": "markdown",
   "metadata": {},
   "source": [
    "## Setup"
   ]
  },
  {
   "cell_type": "markdown",
   "metadata": {},
   "source": [
    "### Install Required Dependencies"
   ]
  },
  {
   "cell_type": "code",
   "execution_count": null,
   "metadata": {},
   "outputs": [],
   "source": [
    "# Install AWS SDK and PDF processing library\n",
    "%pip install --upgrade boto3      # AWS SDK for Python\n",
    "%pip install --upgrade botocore   # Core AWS library\n",
    "%pip install pypdf                # PDF text extraction library"
   ]
  },
  {
   "cell_type": "markdown",
   "metadata": {},
   "source": [
    "### Import Libraries"
   ]
  },
  {
   "cell_type": "code",
   "execution_count": null,
   "metadata": {},
   "outputs": [],
   "source": [
    "# Import AWS SDK for Bedrock integration\n",
    "import boto3"
   ]
  },
  {
   "cell_type": "markdown",
   "metadata": {},
   "source": [
    "### Initialize Bedrock Client"
   ]
  },
  {
   "cell_type": "code",
   "execution_count": null,
   "metadata": {},
   "outputs": [],
   "source": [
    "# Initialize Bedrock Agent Runtime client for document processing\n",
    "bedrock_agent_client = boto3.client(\"bedrock-agent-runtime\")\n",
    "\n",
    "# Configure the AI model - Claude 3 Sonnet for high-quality text generation\n",
    "model_id = \"anthropic.claude-3-sonnet-20240229-v1:0\"\n",
    "\n",
    "# Set AWS region\n",
    "region = \"us-east-1\""
   ]
  },
  {
   "cell_type": "markdown",
   "metadata": {},
   "source": [
    "## Document Processing"
   ]
  },
  {
   "cell_type": "markdown",
   "metadata": {},
   "source": [
    "### Extract Text from Local PDF File"
   ]
  },
  {
   "cell_type": "code",
   "execution_count": null,
   "metadata": {},
   "outputs": [],
   "source": [
    "# Import PDF processing library\n",
    "from pypdf import PdfReader  # Note: For more accurate extraction, consider Amazon Textract\n",
    "\n",
    "# Specify the path to your PDF file\n",
    "file_name = \"data/sample-transcript.pdf\"  # Update this path to your local file\n",
    "\n",
    "# Create PDF reader object\n",
    "reader = PdfReader(file_name)\n",
    "\n",
    "# Display number of pages in the PDF\n",
    "print(f\"📄 Total pages in PDF: {len(reader.pages)}\")\n",
    "\n",
    "# Extract text from all pages\n",
    "text = \"\"\n",
    "page_count = 1\n",
    "\n",
    "# Loop through each page and extract text\n",
    "for page in reader.pages:\n",
    "    text += f\"\\npage_{str(page_count)}\\n {page.extract_text()}\"\n",
    "    page_count += 1\n",
    "\n",
    "# Display extracted text\n",
    "print(\"\\n📝 Extracted Text:\")\n",
    "print(text)"
   ]
  },
  {
   "cell_type": "markdown",
   "metadata": {},
   "source": [
    "### Using S3 Document Location (Optional)"
   ]
  },
  {
   "cell_type": "code",
   "execution_count": null,
   "metadata": {},
   "outputs": [],
   "source": [
    "# Configure S3 document location (uncomment and modify if using S3)\n",
    "bucket_name = \"<REPLACE_WITH_YOUR_BUCKET_NAME>\"           # Your S3 bucket name\n",
    "prefix_file_name = \"<REPLACE_WITH_OBJECT_NAME_INCLUDING_PREFIX>\"  # Object key/path in S3\n",
    "document_s3_uri = f's3://{bucket_name}/{prefix_file_name}'        # Complete S3 URI"
   ]
  },
  {
   "cell_type": "markdown",
   "metadata": {},
   "source": [
    "## Retrieve and Generate Function"
   ]
  },
  {
   "cell_type": "markdown",
   "metadata": {},
   "source": [
    "### Define Core Function"
   ]
  },
  {
   "cell_type": "code",
   "execution_count": null,
   "metadata": {},
   "outputs": [],
   "source": [
    "def retrieveAndGenerate(input, sourceType=\"S3\", model_id=\"anthropic.claude-3-sonnet-20240229-v1:0\"):\n",
    "    \"\"\"\n",
    "    Generate responses based on document content using Amazon Bedrock.\n",
    "    \n",
    "    Args:\n",
    "        input (str): User question or query about the document\n",
    "        sourceType (str): \"S3\" for S3-stored files, \"BYTE_CONTENT\" for local files\n",
    "        model_id (str): Bedrock model identifier\n",
    "    \n",
    "    Returns:\n",
    "        dict: Bedrock response containing generated text and citations\n",
    "    \"\"\"\n",
    "    \n",
    "    # Construct model ARN for Bedrock\n",
    "    model_arn = f'arn:aws:bedrock:{region}::foundation-model/{model_id}'\n",
    "    \n",
    "    if sourceType == \"S3\":\n",
    "        # Configuration for S3-stored documents\n",
    "        return bedrock_agent_client.retrieve_and_generate(\n",
    "            input={\n",
    "                'text': input\n",
    "            },\n",
    "            retrieveAndGenerateConfiguration={\n",
    "                'type': 'EXTERNAL_SOURCES',\n",
    "                'externalSourcesConfiguration': {\n",
    "                    'modelArn': model_arn,\n",
    "                    \"sources\": [\n",
    "                        {\n",
    "                            \"sourceType\": sourceType,\n",
    "                            \"s3Location\": {\n",
    "                                \"uri\": document_s3_uri\n",
    "                            }\n",
    "                        }\n",
    "                    ]\n",
    "                }\n",
    "            }\n",
    "        )\n",
    "    else:\n",
    "        # Configuration for local/byte content documents\n",
    "        return bedrock_agent_client.retrieve_and_generate(\n",
    "            input={\n",
    "                'text': input\n",
    "            },\n",
    "            retrieveAndGenerateConfiguration={\n",
    "                'type': 'EXTERNAL_SOURCES',\n",
    "                'externalSourcesConfiguration': {\n",
    "                    'modelArn': model_arn,\n",
    "                    \"sources\": [\n",
    "                        {\n",
    "                            \"sourceType\": sourceType,\n",
    "                            \"byteContent\": {\n",
    "                                \"identifier\": file_name,\n",
    "                                \"contentType\": \"application/pdf\",\n",
    "                                \"data\": text,\n",
    "                            }\n",
    "                        }\n",
    "                    ]\n",
    "                }\n",
    "            }\n",
    "        )"
   ]
  },
  {
   "cell_type": "markdown",
   "metadata": {},
   "source": [
    "## Chat with Document"
   ]
  },
  {
   "cell_type": "markdown",
   "metadata": {},
   "source": [
    "### Ask Questions About Document Content"
   ]
  },
  {
   "cell_type": "code",
   "execution_count": null,
   "metadata": {},
   "outputs": [],
   "source": [
    "# Ask a question about the document\n",
    "query = \"Summarize the document\"\n",
    "\n",
    "# Generate response using our function\n",
    "response = retrieveAndGenerate(input=query, sourceType=\"BYTE_CONTENT\")\n",
    "\n",
    "# Extract the generated text from the response\n",
    "generated_text = response['output']['text']\n",
    "\n",
    "# Display the AI's response\n",
    "print(\"🤖 AI Response:\")\n",
    "print(generated_text)"
   ]
  },
  {
   "cell_type": "markdown",
   "metadata": {},
   "source": [
    "## Source Citations"
   ]
  },
  {
   "cell_type": "markdown",
   "metadata": {},
   "source": [
    "### View and Verify Source Information"
   ]
  },
  {
   "cell_type": "code",
   "execution_count": null,
   "metadata": {},
   "outputs": [],
   "source": [
    "# Extract and display citations from the response\n",
    "citations = response[\"citations\"]\n",
    "contexts = []\n",
    "\n",
    "# Process each citation to extract the source text\n",
    "for citation in citations:\n",
    "    retrievedReferences = citation[\"retrievedReferences\"]\n",
    "    for reference in retrievedReferences:\n",
    "        contexts.append(reference[\"content\"][\"text\"])\n",
    "\n",
    "# Display the source citations\n",
    "print(\"📖 Source Citations (Text snippets used to generate the response):\")\n",
    "for i, context in enumerate(contexts, 1):\n",
    "    print(f\"\\nCitation {i}:\")\n",
    "    print(context)"
   ]
  },
  {
   "cell_type": "markdown",
   "metadata": {},
   "source": [
    "## Conclusion\n",
    "\n",
    "In this notebook, we've successfully implemented a document question-answering system using Amazon Bedrock's retrieve and generate capabilities. This solution demonstrates the power of combining document processing with foundation models to create intelligent document interaction systems.\n",
    "\n",
    "Key accomplishments:\n",
    "- **Document Processing**: We extracted text from PDF documents, preserving page structure for accurate context retrieval.\n",
    "- **Contextual Question Answering**: Leveraged Claude 3 Sonnet's capabilities to answer questions based on document content.\n",
    "- **Source Attribution**: Implemented citation tracking to provide transparency about which parts of the document were used to generate responses.\n",
    "- **Flexible Document Sources**: Created a system that works with both local files and S3-stored documents.\n",
    "\n",
    "This implementation has numerous practical applications:\n",
    "- **Knowledge Base Interaction**: Query company documentation, reports, or research papers\n",
    "- **Legal Document Analysis**: Extract insights from contracts or regulatory documents\n",
    "- **Educational Content**: Create interactive learning experiences with textbooks or course materials\n",
    "- **Research Assistance**: Quickly find relevant information in academic papers or reports\n",
    "\n",
    "For production deployments, consider these enhancements:\n",
    "- Implement robust error handling for various document formats and sizes\n",
    "- Add a user interface for easier document uploading and interaction\n",
    "- Integrate with document management systems for seamless workflow\n",
    "- Implement caching mechanisms to improve response times for frequently accessed documents\n",
    "- Add document preprocessing capabilities to handle complex layouts and formatting\n",
    "\n",
    "By combining Amazon Bedrock's foundation models with the retrieve and generate pattern, you've created a powerful tool that makes document information more accessible and actionable through natural language interaction."
   ]
  },
  {
   "cell_type": "code",
   "execution_count": null,
   "metadata": {},
   "outputs": [],
   "source": []
  }
 ],
 "metadata": {
  "kernelspec": {
   "display_name": "Python 3 (ipykernel)",
   "language": "python",
   "name": "python3"
  },
  "language_info": {
   "codemirror_mode": {
    "name": "ipython",
    "version": 3
   },
   "file_extension": ".py",
   "mimetype": "text/x-python",
   "name": "python",
   "nbconvert_exporter": "python",
   "pygments_lexer": "ipython3",
   "version": "3.12.9"
  }
 },
 "nbformat": 4,
 "nbformat_minor": 4
}
